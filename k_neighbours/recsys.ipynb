{
 "cells": [
  {
   "cell_type": "code",
   "execution_count": 31,
   "metadata": {
    "collapsed": true,
    "ExecuteTime": {
     "end_time": "2024-09-27T18:41:08.752602Z",
     "start_time": "2024-09-27T18:41:08.724900Z"
    }
   },
   "outputs": [],
   "source": [
    "import copy\n",
    "\n",
    "import pandas\n",
    "from sklearn import preprocessing\n",
    "from sklearn.metrics.pairwise import cosine_similarity"
   ]
  },
  {
   "cell_type": "code",
   "execution_count": 5,
   "outputs": [],
   "source": [
    "filename = \"result.csv\"\n",
    "df = pandas.read_csv(filename, sep=\";\")"
   ],
   "metadata": {
    "collapsed": false,
    "ExecuteTime": {
     "end_time": "2024-09-27T18:32:48.627184Z",
     "start_time": "2024-09-27T18:32:48.531453Z"
    }
   }
  },
  {
   "cell_type": "code",
   "execution_count": 6,
   "outputs": [],
   "source": [
    "__target_columns: list[str] = [\n",
    "    \"stress_level\",\n",
    "    \"sleep_well\",\n",
    "    \"average_sleep_time\",\n",
    "]"
   ],
   "metadata": {
    "collapsed": false,
    "ExecuteTime": {
     "end_time": "2024-09-27T18:32:48.628126Z",
     "start_time": "2024-09-27T18:32:48.541600Z"
    }
   }
  },
  {
   "cell_type": "code",
   "execution_count": 7,
   "outputs": [],
   "source": [
    "target_df = df[__target_columns]"
   ],
   "metadata": {
    "collapsed": false,
    "ExecuteTime": {
     "end_time": "2024-09-27T18:32:48.628295Z",
     "start_time": "2024-09-27T18:32:48.542405Z"
    }
   }
  },
  {
   "cell_type": "code",
   "execution_count": 8,
   "outputs": [],
   "source": [
    "filtered_df = target_df\n",
    "filtered_df.loc[df['sleep_well'] == 'Да', 'sleep_well'] = 1\n",
    "filtered_df.loc[filtered_df['sleep_well'] == 'Нет', 'sleep_well'] = 0"
   ],
   "metadata": {
    "collapsed": false,
    "ExecuteTime": {
     "end_time": "2024-09-27T18:32:48.628430Z",
     "start_time": "2024-09-27T18:32:48.543318Z"
    }
   }
  },
  {
   "cell_type": "code",
   "execution_count": 192,
   "outputs": [
    {
     "data": {
      "text/plain": "    stress_level  sleep_well  average_sleep_time\n0           55.0         1.0                 8.0\n1           70.0         1.0                 8.0\n2           70.0         1.0                 7.0\n3           60.0         1.0                 6.0\n4           90.0         0.0                 6.0\n5            1.0         1.0                 8.0\n6           70.0         1.0                 6.0\n7           45.0         1.0                 7.0\n8           70.0         0.0                 8.0\n9          100.0         0.0                 6.0\n10          70.0         1.0                 8.0\n11          10.0         1.0                 7.0\n12          40.0         1.0                 9.0\n13          70.0         0.0                 7.0\n14          90.0         1.0                 8.0\n15          66.0         1.0                 7.0\n16          99.0         0.0                 5.0\n17          70.0         0.0                 7.0\n18          10.0         1.0                 8.0\n19          30.0         0.0                 7.0\n20          60.0         1.0                 8.0\n21          60.0         0.0                 8.0\n22         100.0         0.0                 6.0\n23          65.0         0.0                 7.0\n24          70.0         0.0                 6.0\n25          30.0         1.0                 7.0\n26          40.0         1.0                 7.0\n27          90.0         0.0                 6.0\n28          40.0         1.0                 8.0\n29          20.0         1.0                 8.0\n30          30.0         1.0                 8.5\n31          35.0         1.0                 8.0\n32         707.0         1.0                 6.0\n33          80.0         0.0                 6.0\n34          50.0         1.0                 8.0\n35          40.0         0.0                 5.0\n36          75.0         0.0                 5.5\n37          70.0         1.0                10.0",
      "text/html": "<div>\n<style scoped>\n    .dataframe tbody tr th:only-of-type {\n        vertical-align: middle;\n    }\n\n    .dataframe tbody tr th {\n        vertical-align: top;\n    }\n\n    .dataframe thead th {\n        text-align: right;\n    }\n</style>\n<table border=\"1\" class=\"dataframe\">\n  <thead>\n    <tr style=\"text-align: right;\">\n      <th></th>\n      <th>stress_level</th>\n      <th>sleep_well</th>\n      <th>average_sleep_time</th>\n    </tr>\n  </thead>\n  <tbody>\n    <tr>\n      <th>0</th>\n      <td>55.0</td>\n      <td>1.0</td>\n      <td>8.0</td>\n    </tr>\n    <tr>\n      <th>1</th>\n      <td>70.0</td>\n      <td>1.0</td>\n      <td>8.0</td>\n    </tr>\n    <tr>\n      <th>2</th>\n      <td>70.0</td>\n      <td>1.0</td>\n      <td>7.0</td>\n    </tr>\n    <tr>\n      <th>3</th>\n      <td>60.0</td>\n      <td>1.0</td>\n      <td>6.0</td>\n    </tr>\n    <tr>\n      <th>4</th>\n      <td>90.0</td>\n      <td>0.0</td>\n      <td>6.0</td>\n    </tr>\n    <tr>\n      <th>5</th>\n      <td>1.0</td>\n      <td>1.0</td>\n      <td>8.0</td>\n    </tr>\n    <tr>\n      <th>6</th>\n      <td>70.0</td>\n      <td>1.0</td>\n      <td>6.0</td>\n    </tr>\n    <tr>\n      <th>7</th>\n      <td>45.0</td>\n      <td>1.0</td>\n      <td>7.0</td>\n    </tr>\n    <tr>\n      <th>8</th>\n      <td>70.0</td>\n      <td>0.0</td>\n      <td>8.0</td>\n    </tr>\n    <tr>\n      <th>9</th>\n      <td>100.0</td>\n      <td>0.0</td>\n      <td>6.0</td>\n    </tr>\n    <tr>\n      <th>10</th>\n      <td>70.0</td>\n      <td>1.0</td>\n      <td>8.0</td>\n    </tr>\n    <tr>\n      <th>11</th>\n      <td>10.0</td>\n      <td>1.0</td>\n      <td>7.0</td>\n    </tr>\n    <tr>\n      <th>12</th>\n      <td>40.0</td>\n      <td>1.0</td>\n      <td>9.0</td>\n    </tr>\n    <tr>\n      <th>13</th>\n      <td>70.0</td>\n      <td>0.0</td>\n      <td>7.0</td>\n    </tr>\n    <tr>\n      <th>14</th>\n      <td>90.0</td>\n      <td>1.0</td>\n      <td>8.0</td>\n    </tr>\n    <tr>\n      <th>15</th>\n      <td>66.0</td>\n      <td>1.0</td>\n      <td>7.0</td>\n    </tr>\n    <tr>\n      <th>16</th>\n      <td>99.0</td>\n      <td>0.0</td>\n      <td>5.0</td>\n    </tr>\n    <tr>\n      <th>17</th>\n      <td>70.0</td>\n      <td>0.0</td>\n      <td>7.0</td>\n    </tr>\n    <tr>\n      <th>18</th>\n      <td>10.0</td>\n      <td>1.0</td>\n      <td>8.0</td>\n    </tr>\n    <tr>\n      <th>19</th>\n      <td>30.0</td>\n      <td>0.0</td>\n      <td>7.0</td>\n    </tr>\n    <tr>\n      <th>20</th>\n      <td>60.0</td>\n      <td>1.0</td>\n      <td>8.0</td>\n    </tr>\n    <tr>\n      <th>21</th>\n      <td>60.0</td>\n      <td>0.0</td>\n      <td>8.0</td>\n    </tr>\n    <tr>\n      <th>22</th>\n      <td>100.0</td>\n      <td>0.0</td>\n      <td>6.0</td>\n    </tr>\n    <tr>\n      <th>23</th>\n      <td>65.0</td>\n      <td>0.0</td>\n      <td>7.0</td>\n    </tr>\n    <tr>\n      <th>24</th>\n      <td>70.0</td>\n      <td>0.0</td>\n      <td>6.0</td>\n    </tr>\n    <tr>\n      <th>25</th>\n      <td>30.0</td>\n      <td>1.0</td>\n      <td>7.0</td>\n    </tr>\n    <tr>\n      <th>26</th>\n      <td>40.0</td>\n      <td>1.0</td>\n      <td>7.0</td>\n    </tr>\n    <tr>\n      <th>27</th>\n      <td>90.0</td>\n      <td>0.0</td>\n      <td>6.0</td>\n    </tr>\n    <tr>\n      <th>28</th>\n      <td>40.0</td>\n      <td>1.0</td>\n      <td>8.0</td>\n    </tr>\n    <tr>\n      <th>29</th>\n      <td>20.0</td>\n      <td>1.0</td>\n      <td>8.0</td>\n    </tr>\n    <tr>\n      <th>30</th>\n      <td>30.0</td>\n      <td>1.0</td>\n      <td>8.5</td>\n    </tr>\n    <tr>\n      <th>31</th>\n      <td>35.0</td>\n      <td>1.0</td>\n      <td>8.0</td>\n    </tr>\n    <tr>\n      <th>32</th>\n      <td>707.0</td>\n      <td>1.0</td>\n      <td>6.0</td>\n    </tr>\n    <tr>\n      <th>33</th>\n      <td>80.0</td>\n      <td>0.0</td>\n      <td>6.0</td>\n    </tr>\n    <tr>\n      <th>34</th>\n      <td>50.0</td>\n      <td>1.0</td>\n      <td>8.0</td>\n    </tr>\n    <tr>\n      <th>35</th>\n      <td>40.0</td>\n      <td>0.0</td>\n      <td>5.0</td>\n    </tr>\n    <tr>\n      <th>36</th>\n      <td>75.0</td>\n      <td>0.0</td>\n      <td>5.5</td>\n    </tr>\n    <tr>\n      <th>37</th>\n      <td>70.0</td>\n      <td>1.0</td>\n      <td>10.0</td>\n    </tr>\n  </tbody>\n</table>\n</div>"
     },
     "execution_count": 192,
     "metadata": {},
     "output_type": "execute_result"
    }
   ],
   "source": [
    "filtered_df = filtered_df.astype(float)\n",
    "filtered_df"
   ],
   "metadata": {
    "collapsed": false,
    "ExecuteTime": {
     "end_time": "2024-09-28T11:26:17.113562Z",
     "start_time": "2024-09-28T11:26:17.084042Z"
    }
   }
  },
  {
   "cell_type": "code",
   "execution_count": 10,
   "outputs": [
    {
     "data": {
      "text/plain": "<bound method DataFrame.all of     stress_level  sleep_well  average_sleep_time\n0           55.0         1.0                 8.0\n1           70.0         1.0                 8.0\n2           70.0         1.0                 7.0\n3           60.0         1.0                 6.0\n4           90.0         0.0                 6.0\n5            1.0         1.0                 8.0\n6           70.0         1.0                 6.0\n7           45.0         1.0                 7.0\n8           70.0         0.0                 8.0\n9          100.0         0.0                 6.0\n10          70.0         1.0                 8.0\n11          10.0         1.0                 7.0\n12          40.0         1.0                 9.0\n13          70.0         0.0                 7.0\n14          90.0         1.0                 8.0\n15          66.0         1.0                 7.0\n16          99.0         0.0                 5.0\n17          70.0         0.0                 7.0\n18          10.0         1.0                 8.0\n19          30.0         0.0                 7.0\n20          60.0         1.0                 8.0\n21          60.0         0.0                 8.0\n22         100.0         0.0                 6.0\n23          65.0         0.0                 7.0\n24          70.0         0.0                 6.0\n25          30.0         1.0                 7.0\n26          40.0         1.0                 7.0\n27          90.0         0.0                 6.0\n28          40.0         1.0                 8.0\n29          20.0         1.0                 8.0\n30          30.0         1.0                 8.5\n31          35.0         1.0                 8.0\n32         707.0         1.0                 6.0\n33          80.0         0.0                 6.0\n34          50.0         1.0                 8.0\n35          40.0         0.0                 5.0\n36          75.0         0.0                 5.5\n37          70.0         1.0                10.0>"
     },
     "execution_count": 10,
     "metadata": {},
     "output_type": "execute_result"
    }
   ],
   "source": [
    "filtered_df.all"
   ],
   "metadata": {
    "collapsed": false,
    "ExecuteTime": {
     "end_time": "2024-09-27T18:32:48.643981Z",
     "start_time": "2024-09-27T18:32:48.557799Z"
    }
   }
  },
  {
   "cell_type": "markdown",
   "source": [],
   "metadata": {
    "collapsed": false
   }
  },
  {
   "cell_type": "code",
   "execution_count": 11,
   "outputs": [
    {
     "data": {
      "text/plain": "           0         1         2\n0   0.989426  0.017990  0.143917\n1   0.993433  0.014192  0.113535\n2   0.994937  0.014213  0.099494\n3   0.994900  0.016582  0.099490\n4   0.997785  0.000000  0.066519\n5   0.123091  0.123091  0.984732\n6   0.996246  0.014232  0.085392\n7   0.987878  0.021953  0.153670\n8   0.993533  0.000000  0.113547\n9   0.998205  0.000000  0.059892\n10  0.993433  0.014192  0.113535\n11  0.816497  0.081650  0.571548\n12  0.975320  0.024383  0.219447\n13  0.995037  0.000000  0.099504\n14  0.996012  0.011067  0.088534\n15  0.994310  0.015065  0.105457\n16  0.998727  0.000000  0.050441\n17  0.995037  0.000000  0.099504\n18  0.778499  0.077850  0.622799\n19  0.973841  0.000000  0.227230\n20  0.991093  0.016518  0.132146\n21  0.991228  0.000000  0.132164\n22  0.998205  0.000000  0.059892\n23  0.994251  0.000000  0.107073\n24  0.996347  0.000000  0.085401\n25  0.973329  0.032444  0.227110\n26  0.984732  0.024618  0.172328\n27  0.997785  0.000000  0.066519\n28  0.980286  0.024507  0.196057\n29  0.927478  0.046374  0.370991\n30  0.961632  0.032054  0.272462\n31  0.974481  0.027842  0.222738\n32  0.999963  0.001414  0.008486\n33  0.997199  0.000000  0.074790\n34  0.987248  0.019745  0.157960\n35  0.992278  0.000000  0.124035\n36  0.997322  0.000000  0.073137\n37  0.989851  0.014141  0.141407",
      "text/html": "<div>\n<style scoped>\n    .dataframe tbody tr th:only-of-type {\n        vertical-align: middle;\n    }\n\n    .dataframe tbody tr th {\n        vertical-align: top;\n    }\n\n    .dataframe thead th {\n        text-align: right;\n    }\n</style>\n<table border=\"1\" class=\"dataframe\">\n  <thead>\n    <tr style=\"text-align: right;\">\n      <th></th>\n      <th>0</th>\n      <th>1</th>\n      <th>2</th>\n    </tr>\n  </thead>\n  <tbody>\n    <tr>\n      <th>0</th>\n      <td>0.989426</td>\n      <td>0.017990</td>\n      <td>0.143917</td>\n    </tr>\n    <tr>\n      <th>1</th>\n      <td>0.993433</td>\n      <td>0.014192</td>\n      <td>0.113535</td>\n    </tr>\n    <tr>\n      <th>2</th>\n      <td>0.994937</td>\n      <td>0.014213</td>\n      <td>0.099494</td>\n    </tr>\n    <tr>\n      <th>3</th>\n      <td>0.994900</td>\n      <td>0.016582</td>\n      <td>0.099490</td>\n    </tr>\n    <tr>\n      <th>4</th>\n      <td>0.997785</td>\n      <td>0.000000</td>\n      <td>0.066519</td>\n    </tr>\n    <tr>\n      <th>5</th>\n      <td>0.123091</td>\n      <td>0.123091</td>\n      <td>0.984732</td>\n    </tr>\n    <tr>\n      <th>6</th>\n      <td>0.996246</td>\n      <td>0.014232</td>\n      <td>0.085392</td>\n    </tr>\n    <tr>\n      <th>7</th>\n      <td>0.987878</td>\n      <td>0.021953</td>\n      <td>0.153670</td>\n    </tr>\n    <tr>\n      <th>8</th>\n      <td>0.993533</td>\n      <td>0.000000</td>\n      <td>0.113547</td>\n    </tr>\n    <tr>\n      <th>9</th>\n      <td>0.998205</td>\n      <td>0.000000</td>\n      <td>0.059892</td>\n    </tr>\n    <tr>\n      <th>10</th>\n      <td>0.993433</td>\n      <td>0.014192</td>\n      <td>0.113535</td>\n    </tr>\n    <tr>\n      <th>11</th>\n      <td>0.816497</td>\n      <td>0.081650</td>\n      <td>0.571548</td>\n    </tr>\n    <tr>\n      <th>12</th>\n      <td>0.975320</td>\n      <td>0.024383</td>\n      <td>0.219447</td>\n    </tr>\n    <tr>\n      <th>13</th>\n      <td>0.995037</td>\n      <td>0.000000</td>\n      <td>0.099504</td>\n    </tr>\n    <tr>\n      <th>14</th>\n      <td>0.996012</td>\n      <td>0.011067</td>\n      <td>0.088534</td>\n    </tr>\n    <tr>\n      <th>15</th>\n      <td>0.994310</td>\n      <td>0.015065</td>\n      <td>0.105457</td>\n    </tr>\n    <tr>\n      <th>16</th>\n      <td>0.998727</td>\n      <td>0.000000</td>\n      <td>0.050441</td>\n    </tr>\n    <tr>\n      <th>17</th>\n      <td>0.995037</td>\n      <td>0.000000</td>\n      <td>0.099504</td>\n    </tr>\n    <tr>\n      <th>18</th>\n      <td>0.778499</td>\n      <td>0.077850</td>\n      <td>0.622799</td>\n    </tr>\n    <tr>\n      <th>19</th>\n      <td>0.973841</td>\n      <td>0.000000</td>\n      <td>0.227230</td>\n    </tr>\n    <tr>\n      <th>20</th>\n      <td>0.991093</td>\n      <td>0.016518</td>\n      <td>0.132146</td>\n    </tr>\n    <tr>\n      <th>21</th>\n      <td>0.991228</td>\n      <td>0.000000</td>\n      <td>0.132164</td>\n    </tr>\n    <tr>\n      <th>22</th>\n      <td>0.998205</td>\n      <td>0.000000</td>\n      <td>0.059892</td>\n    </tr>\n    <tr>\n      <th>23</th>\n      <td>0.994251</td>\n      <td>0.000000</td>\n      <td>0.107073</td>\n    </tr>\n    <tr>\n      <th>24</th>\n      <td>0.996347</td>\n      <td>0.000000</td>\n      <td>0.085401</td>\n    </tr>\n    <tr>\n      <th>25</th>\n      <td>0.973329</td>\n      <td>0.032444</td>\n      <td>0.227110</td>\n    </tr>\n    <tr>\n      <th>26</th>\n      <td>0.984732</td>\n      <td>0.024618</td>\n      <td>0.172328</td>\n    </tr>\n    <tr>\n      <th>27</th>\n      <td>0.997785</td>\n      <td>0.000000</td>\n      <td>0.066519</td>\n    </tr>\n    <tr>\n      <th>28</th>\n      <td>0.980286</td>\n      <td>0.024507</td>\n      <td>0.196057</td>\n    </tr>\n    <tr>\n      <th>29</th>\n      <td>0.927478</td>\n      <td>0.046374</td>\n      <td>0.370991</td>\n    </tr>\n    <tr>\n      <th>30</th>\n      <td>0.961632</td>\n      <td>0.032054</td>\n      <td>0.272462</td>\n    </tr>\n    <tr>\n      <th>31</th>\n      <td>0.974481</td>\n      <td>0.027842</td>\n      <td>0.222738</td>\n    </tr>\n    <tr>\n      <th>32</th>\n      <td>0.999963</td>\n      <td>0.001414</td>\n      <td>0.008486</td>\n    </tr>\n    <tr>\n      <th>33</th>\n      <td>0.997199</td>\n      <td>0.000000</td>\n      <td>0.074790</td>\n    </tr>\n    <tr>\n      <th>34</th>\n      <td>0.987248</td>\n      <td>0.019745</td>\n      <td>0.157960</td>\n    </tr>\n    <tr>\n      <th>35</th>\n      <td>0.992278</td>\n      <td>0.000000</td>\n      <td>0.124035</td>\n    </tr>\n    <tr>\n      <th>36</th>\n      <td>0.997322</td>\n      <td>0.000000</td>\n      <td>0.073137</td>\n    </tr>\n    <tr>\n      <th>37</th>\n      <td>0.989851</td>\n      <td>0.014141</td>\n      <td>0.141407</td>\n    </tr>\n  </tbody>\n</table>\n</div>"
     },
     "execution_count": 11,
     "metadata": {},
     "output_type": "execute_result"
    }
   ],
   "source": [
    "scaler = preprocessing.Normalizer()\n",
    "scaled_x = scaler.fit_transform(filtered_df.values)\n",
    "scaled_df = pandas.DataFrame(scaled_x)\n",
    "scaled_df"
   ],
   "metadata": {
    "collapsed": false,
    "ExecuteTime": {
     "end_time": "2024-09-27T18:32:48.645343Z",
     "start_time": "2024-09-27T18:32:48.563594Z"
    }
   }
  },
  {
   "cell_type": "code",
   "execution_count": 41,
   "outputs": [],
   "source": [
    "user_vector = [0.4, 0.2, 0.7]"
   ],
   "metadata": {
    "collapsed": false,
    "ExecuteTime": {
     "end_time": "2024-09-27T18:46:02.885392Z",
     "start_time": "2024-09-27T18:46:02.857039Z"
    }
   }
  },
  {
   "cell_type": "code",
   "execution_count": 13,
   "outputs": [],
   "source": [
    "diffs = cosine_similarity(scaled_x, [user_vector])"
   ],
   "metadata": {
    "collapsed": false,
    "ExecuteTime": {
     "end_time": "2024-09-27T18:32:48.645884Z",
     "start_time": "2024-09-27T18:32:48.579674Z"
    }
   }
  },
  {
   "cell_type": "code",
   "execution_count": 18,
   "outputs": [],
   "source": [
    "result_df = pandas.DataFrame(diffs, columns=['value'])"
   ],
   "metadata": {
    "collapsed": false,
    "ExecuteTime": {
     "end_time": "2024-09-27T18:35:11.309162Z",
     "start_time": "2024-09-27T18:35:11.259223Z"
    }
   }
  },
  {
   "cell_type": "code",
   "execution_count": 40,
   "outputs": [
    {
     "data": {
      "text/plain": "       value\n0   0.602062\n1   0.577474\n2   0.566371\n3   0.566920\n4   0.536533\n5   0.918745\n6   0.555123\n7   0.610490\n8   0.574115\n9   0.531150\n10  0.577474\n11  0.894481\n12  0.660458\n13  0.563005\n14  0.556895\n15  0.571299\n16  0.523437\n17  0.563005\n18  0.918459\n19  0.660433\n20  0.592591\n21  0.588694\n22  0.531150\n23  0.569006\n24  0.551752\n25  0.667897\n26  0.625340\n27  0.536533\n28  0.643169\n29  0.770421\n30  0.700390\n31  0.663660\n32  0.489018\n33  0.543220\n34  0.613270\n35  0.582349\n36  0.541886\n37  0.599225",
      "text/html": "<div>\n<style scoped>\n    .dataframe tbody tr th:only-of-type {\n        vertical-align: middle;\n    }\n\n    .dataframe tbody tr th {\n        vertical-align: top;\n    }\n\n    .dataframe thead th {\n        text-align: right;\n    }\n</style>\n<table border=\"1\" class=\"dataframe\">\n  <thead>\n    <tr style=\"text-align: right;\">\n      <th></th>\n      <th>value</th>\n    </tr>\n  </thead>\n  <tbody>\n    <tr>\n      <th>0</th>\n      <td>0.602062</td>\n    </tr>\n    <tr>\n      <th>1</th>\n      <td>0.577474</td>\n    </tr>\n    <tr>\n      <th>2</th>\n      <td>0.566371</td>\n    </tr>\n    <tr>\n      <th>3</th>\n      <td>0.566920</td>\n    </tr>\n    <tr>\n      <th>4</th>\n      <td>0.536533</td>\n    </tr>\n    <tr>\n      <th>5</th>\n      <td>0.918745</td>\n    </tr>\n    <tr>\n      <th>6</th>\n      <td>0.555123</td>\n    </tr>\n    <tr>\n      <th>7</th>\n      <td>0.610490</td>\n    </tr>\n    <tr>\n      <th>8</th>\n      <td>0.574115</td>\n    </tr>\n    <tr>\n      <th>9</th>\n      <td>0.531150</td>\n    </tr>\n    <tr>\n      <th>10</th>\n      <td>0.577474</td>\n    </tr>\n    <tr>\n      <th>11</th>\n      <td>0.894481</td>\n    </tr>\n    <tr>\n      <th>12</th>\n      <td>0.660458</td>\n    </tr>\n    <tr>\n      <th>13</th>\n      <td>0.563005</td>\n    </tr>\n    <tr>\n      <th>14</th>\n      <td>0.556895</td>\n    </tr>\n    <tr>\n      <th>15</th>\n      <td>0.571299</td>\n    </tr>\n    <tr>\n      <th>16</th>\n      <td>0.523437</td>\n    </tr>\n    <tr>\n      <th>17</th>\n      <td>0.563005</td>\n    </tr>\n    <tr>\n      <th>18</th>\n      <td>0.918459</td>\n    </tr>\n    <tr>\n      <th>19</th>\n      <td>0.660433</td>\n    </tr>\n    <tr>\n      <th>20</th>\n      <td>0.592591</td>\n    </tr>\n    <tr>\n      <th>21</th>\n      <td>0.588694</td>\n    </tr>\n    <tr>\n      <th>22</th>\n      <td>0.531150</td>\n    </tr>\n    <tr>\n      <th>23</th>\n      <td>0.569006</td>\n    </tr>\n    <tr>\n      <th>24</th>\n      <td>0.551752</td>\n    </tr>\n    <tr>\n      <th>25</th>\n      <td>0.667897</td>\n    </tr>\n    <tr>\n      <th>26</th>\n      <td>0.625340</td>\n    </tr>\n    <tr>\n      <th>27</th>\n      <td>0.536533</td>\n    </tr>\n    <tr>\n      <th>28</th>\n      <td>0.643169</td>\n    </tr>\n    <tr>\n      <th>29</th>\n      <td>0.770421</td>\n    </tr>\n    <tr>\n      <th>30</th>\n      <td>0.700390</td>\n    </tr>\n    <tr>\n      <th>31</th>\n      <td>0.663660</td>\n    </tr>\n    <tr>\n      <th>32</th>\n      <td>0.489018</td>\n    </tr>\n    <tr>\n      <th>33</th>\n      <td>0.543220</td>\n    </tr>\n    <tr>\n      <th>34</th>\n      <td>0.613270</td>\n    </tr>\n    <tr>\n      <th>35</th>\n      <td>0.582349</td>\n    </tr>\n    <tr>\n      <th>36</th>\n      <td>0.541886</td>\n    </tr>\n    <tr>\n      <th>37</th>\n      <td>0.599225</td>\n    </tr>\n  </tbody>\n</table>\n</div>"
     },
     "execution_count": 40,
     "metadata": {},
     "output_type": "execute_result"
    }
   ],
   "source": [
    "result_df"
   ],
   "metadata": {
    "collapsed": false,
    "ExecuteTime": {
     "end_time": "2024-09-27T18:43:26.238535Z",
     "start_time": "2024-09-27T18:43:26.225248Z"
    }
   }
  },
  {
   "cell_type": "code",
   "execution_count": 48,
   "outputs": [],
   "source": [
    "joined_result_df = copy.copy(df[[\"morning_drink\"]])\n",
    "joined_result_df[['similarity_rate']] = result_df"
   ],
   "metadata": {
    "collapsed": false,
    "ExecuteTime": {
     "end_time": "2024-09-27T18:49:03.624513Z",
     "start_time": "2024-09-27T18:49:03.617110Z"
    }
   }
  },
  {
   "cell_type": "code",
   "execution_count": 49,
   "outputs": [
    {
     "data": {
      "text/plain": "   morning_drink  similarity_rate\n5            Чай         0.918745\n18           Чай         0.918459\n11           Чай         0.894481\n29          Кофе         0.770421\n30           Чай         0.700390\n25          Кофе         0.667897\n31           Чай         0.663660\n12           Чай         0.660458\n19           Чай         0.660433\n28           Чай         0.643169\n26           Чай         0.625340\n34           Чай         0.613270\n7            Чай         0.610490\n0           Кофе         0.602062\n37           Чай         0.599225\n20           Чай         0.592591\n21           Чай         0.588694\n35          Кофе         0.582349\n1            Чай         0.577474\n10          Кофе         0.577474\n8           Кофе         0.574115\n15          Кофе         0.571299\n23           Чай         0.569006\n3           Кофе         0.566920\n2           Кофе         0.566371\n17          Кофе         0.563005\n13          Кофе         0.563005\n14           Чай         0.556895\n6            Чай         0.555123\n24          Кофе         0.551752\n33           Чай         0.543220\n36           Чай         0.541886\n27           Чай         0.536533\n4           Кофе         0.536533\n22           Чай         0.531150\n9            Чай         0.531150\n16          Кофе         0.523437\n32          Кофе         0.489018",
      "text/html": "<div>\n<style scoped>\n    .dataframe tbody tr th:only-of-type {\n        vertical-align: middle;\n    }\n\n    .dataframe tbody tr th {\n        vertical-align: top;\n    }\n\n    .dataframe thead th {\n        text-align: right;\n    }\n</style>\n<table border=\"1\" class=\"dataframe\">\n  <thead>\n    <tr style=\"text-align: right;\">\n      <th></th>\n      <th>morning_drink</th>\n      <th>similarity_rate</th>\n    </tr>\n  </thead>\n  <tbody>\n    <tr>\n      <th>5</th>\n      <td>Чай</td>\n      <td>0.918745</td>\n    </tr>\n    <tr>\n      <th>18</th>\n      <td>Чай</td>\n      <td>0.918459</td>\n    </tr>\n    <tr>\n      <th>11</th>\n      <td>Чай</td>\n      <td>0.894481</td>\n    </tr>\n    <tr>\n      <th>29</th>\n      <td>Кофе</td>\n      <td>0.770421</td>\n    </tr>\n    <tr>\n      <th>30</th>\n      <td>Чай</td>\n      <td>0.700390</td>\n    </tr>\n    <tr>\n      <th>25</th>\n      <td>Кофе</td>\n      <td>0.667897</td>\n    </tr>\n    <tr>\n      <th>31</th>\n      <td>Чай</td>\n      <td>0.663660</td>\n    </tr>\n    <tr>\n      <th>12</th>\n      <td>Чай</td>\n      <td>0.660458</td>\n    </tr>\n    <tr>\n      <th>19</th>\n      <td>Чай</td>\n      <td>0.660433</td>\n    </tr>\n    <tr>\n      <th>28</th>\n      <td>Чай</td>\n      <td>0.643169</td>\n    </tr>\n    <tr>\n      <th>26</th>\n      <td>Чай</td>\n      <td>0.625340</td>\n    </tr>\n    <tr>\n      <th>34</th>\n      <td>Чай</td>\n      <td>0.613270</td>\n    </tr>\n    <tr>\n      <th>7</th>\n      <td>Чай</td>\n      <td>0.610490</td>\n    </tr>\n    <tr>\n      <th>0</th>\n      <td>Кофе</td>\n      <td>0.602062</td>\n    </tr>\n    <tr>\n      <th>37</th>\n      <td>Чай</td>\n      <td>0.599225</td>\n    </tr>\n    <tr>\n      <th>20</th>\n      <td>Чай</td>\n      <td>0.592591</td>\n    </tr>\n    <tr>\n      <th>21</th>\n      <td>Чай</td>\n      <td>0.588694</td>\n    </tr>\n    <tr>\n      <th>35</th>\n      <td>Кофе</td>\n      <td>0.582349</td>\n    </tr>\n    <tr>\n      <th>1</th>\n      <td>Чай</td>\n      <td>0.577474</td>\n    </tr>\n    <tr>\n      <th>10</th>\n      <td>Кофе</td>\n      <td>0.577474</td>\n    </tr>\n    <tr>\n      <th>8</th>\n      <td>Кофе</td>\n      <td>0.574115</td>\n    </tr>\n    <tr>\n      <th>15</th>\n      <td>Кофе</td>\n      <td>0.571299</td>\n    </tr>\n    <tr>\n      <th>23</th>\n      <td>Чай</td>\n      <td>0.569006</td>\n    </tr>\n    <tr>\n      <th>3</th>\n      <td>Кофе</td>\n      <td>0.566920</td>\n    </tr>\n    <tr>\n      <th>2</th>\n      <td>Кофе</td>\n      <td>0.566371</td>\n    </tr>\n    <tr>\n      <th>17</th>\n      <td>Кофе</td>\n      <td>0.563005</td>\n    </tr>\n    <tr>\n      <th>13</th>\n      <td>Кофе</td>\n      <td>0.563005</td>\n    </tr>\n    <tr>\n      <th>14</th>\n      <td>Чай</td>\n      <td>0.556895</td>\n    </tr>\n    <tr>\n      <th>6</th>\n      <td>Чай</td>\n      <td>0.555123</td>\n    </tr>\n    <tr>\n      <th>24</th>\n      <td>Кофе</td>\n      <td>0.551752</td>\n    </tr>\n    <tr>\n      <th>33</th>\n      <td>Чай</td>\n      <td>0.543220</td>\n    </tr>\n    <tr>\n      <th>36</th>\n      <td>Чай</td>\n      <td>0.541886</td>\n    </tr>\n    <tr>\n      <th>27</th>\n      <td>Чай</td>\n      <td>0.536533</td>\n    </tr>\n    <tr>\n      <th>4</th>\n      <td>Кофе</td>\n      <td>0.536533</td>\n    </tr>\n    <tr>\n      <th>22</th>\n      <td>Чай</td>\n      <td>0.531150</td>\n    </tr>\n    <tr>\n      <th>9</th>\n      <td>Чай</td>\n      <td>0.531150</td>\n    </tr>\n    <tr>\n      <th>16</th>\n      <td>Кофе</td>\n      <td>0.523437</td>\n    </tr>\n    <tr>\n      <th>32</th>\n      <td>Кофе</td>\n      <td>0.489018</td>\n    </tr>\n  </tbody>\n</table>\n</div>"
     },
     "execution_count": 49,
     "metadata": {},
     "output_type": "execute_result"
    }
   ],
   "source": [
    "sorted_list = joined_result_df.sort_values(by=\"similarity_rate\", ascending=False)\n",
    "sorted_list"
   ],
   "metadata": {
    "collapsed": false,
    "ExecuteTime": {
     "end_time": "2024-09-27T18:49:08.410380Z",
     "start_time": "2024-09-27T18:49:08.331896Z"
    }
   }
  },
  {
   "cell_type": "code",
   "execution_count": 50,
   "outputs": [
    {
     "data": {
      "text/plain": "   morning_drink  similarity_rate\n5            Чай         0.918745\n18           Чай         0.918459\n11           Чай         0.894481\n29          Кофе         0.770421\n30           Чай         0.700390",
      "text/html": "<div>\n<style scoped>\n    .dataframe tbody tr th:only-of-type {\n        vertical-align: middle;\n    }\n\n    .dataframe tbody tr th {\n        vertical-align: top;\n    }\n\n    .dataframe thead th {\n        text-align: right;\n    }\n</style>\n<table border=\"1\" class=\"dataframe\">\n  <thead>\n    <tr style=\"text-align: right;\">\n      <th></th>\n      <th>morning_drink</th>\n      <th>similarity_rate</th>\n    </tr>\n  </thead>\n  <tbody>\n    <tr>\n      <th>5</th>\n      <td>Чай</td>\n      <td>0.918745</td>\n    </tr>\n    <tr>\n      <th>18</th>\n      <td>Чай</td>\n      <td>0.918459</td>\n    </tr>\n    <tr>\n      <th>11</th>\n      <td>Чай</td>\n      <td>0.894481</td>\n    </tr>\n    <tr>\n      <th>29</th>\n      <td>Кофе</td>\n      <td>0.770421</td>\n    </tr>\n    <tr>\n      <th>30</th>\n      <td>Чай</td>\n      <td>0.700390</td>\n    </tr>\n  </tbody>\n</table>\n</div>"
     },
     "execution_count": 50,
     "metadata": {},
     "output_type": "execute_result"
    }
   ],
   "source": [
    "head_neighbours = sorted_list.head(5)\n",
    "head_neighbours"
   ],
   "metadata": {
    "collapsed": false,
    "ExecuteTime": {
     "end_time": "2024-09-27T18:49:33.685321Z",
     "start_time": "2024-09-27T18:49:33.668078Z"
    }
   }
  },
  {
   "cell_type": "code",
   "execution_count": 174,
   "outputs": [
    {
     "data": {
      "text/plain": "array(['Чай', 'Чай', 'Чай', 'Кофе', 'Чай'], dtype=object)"
     },
     "execution_count": 174,
     "metadata": {},
     "output_type": "execute_result"
    }
   ],
   "source": [
    "target_values = head_neighbours['morning_drink'].values\n",
    "target_values"
   ],
   "metadata": {
    "collapsed": false,
    "ExecuteTime": {
     "end_time": "2024-09-28T11:01:24.981416Z",
     "start_time": "2024-09-28T11:01:24.933710Z"
    }
   }
  },
  {
   "cell_type": "code",
   "execution_count": 61,
   "outputs": [
    {
     "data": {
      "text/plain": "{'Чай': 4, 'Кофе': 1}"
     },
     "execution_count": 61,
     "metadata": {},
     "output_type": "execute_result"
    }
   ],
   "source": [
    "m = {}\n",
    "for val in target_values:\n",
    "    m[val] = m.get(val, 0) + 1\n",
    "\n",
    "m"
   ],
   "metadata": {
    "collapsed": false,
    "ExecuteTime": {
     "end_time": "2024-09-27T18:52:28.622252Z",
     "start_time": "2024-09-27T18:52:28.583305Z"
    }
   }
  },
  {
   "cell_type": "code",
   "execution_count": 64,
   "outputs": [
    {
     "data": {
      "text/plain": "'Чай'"
     },
     "execution_count": 64,
     "metadata": {},
     "output_type": "execute_result"
    }
   ],
   "source": [
    "predicted_answer = max(m, key=m.get)\n",
    "predicted_answer"
   ],
   "metadata": {
    "collapsed": false,
    "ExecuteTime": {
     "end_time": "2024-09-27T18:55:37.718655Z",
     "start_time": "2024-09-27T18:55:37.651921Z"
    }
   }
  },
  {
   "cell_type": "code",
   "execution_count": 66,
   "outputs": [
    {
     "data": {
      "text/plain": "     gender morning_drink  age  healthy_life_style smoking  \\\n0   Женщина          Кофе   22                  65      Да   \n1   Мужчина           Чай   21                  85     Нет   \n2   Мужчина          Кофе   22                  50      Да   \n3   Мужчина          Кофе   22                  80      Да   \n4   Женщина          Кофе   23                  50     Нет   \n5   Мужчина           Чай   21                  99     Нет   \n6   Мужчина           Чай   22                  50     Нет   \n7   Мужчина           Чай   22                  80     Нет   \n8   Мужчина          Кофе   22                  50     Нет   \n9   Мужчина           Чай   21                  70      Да   \n10  Мужчина          Кофе   21                  99     Нет   \n11  Мужчина           Чай   22                  80      Да   \n12  Мужчина           Чай   22                  65     Нет   \n13  Мужчина          Кофе   21                  60      Да   \n14  Мужчина           Чай   21                  10      Да   \n15  Женщина          Кофе   21                  52     Нет   \n16  Женщина          Кофе   21                  82      Да   \n17  Женщина          Кофе   21                 100     Нет   \n18  Мужчина           Чай   21                  50     Нет   \n19  Женщина           Чай   22                  70     Нет   \n20  Мужчина           Чай   22                  80     Нет   \n21  Мужчина           Чай   22                  80      Да   \n22  Мужчина           Чай   22                  81     Нет   \n23  Мужчина           Чай   21                  78     Нет   \n24  Мужчина          Кофе   22                  70     Нет   \n25  Женщина          Кофе   21                  68     Нет   \n26  Мужчина           Чай   21                  75     Нет   \n27  Мужчина           Чай   23                  25      Да   \n28  Мужчина           Чай   21                  70     Нет   \n29  Мужчина          Кофе   22                  90     Нет   \n30  Мужчина           Чай   21                  80     Нет   \n31  Мужчина           Чай   22                  70     Нет   \n32  Мужчина          Кофе   22                  80      Да   \n33  Мужчина           Чай   21                  60      Да   \n34  Мужчина           Чай   21                  75     Нет   \n35  Мужчина          Кофе   27                  60      Да   \n36  Мужчина           Чай   21                  65      Да   \n37  Мужчина           Чай   21                  80     Нет   \n\n             left_eye_color  stress_level sleep_well chronotype wake_up_time  \\\n0              Серо-зеленый            55         Да  Жаворонок         8:00   \n1                   Зеленый            70         Да  Жаворонок         6:00   \n2                   Голубой            70         Да       Сова         9:00   \n3                     Карий            60         Да       Сова         9:00   \n4                   Голубой            90        Нет       Сова        14:00   \n5                   Зелёный             1         Да  Жаворонок         6:30   \n6                   Голубой            70         Да       Сова        10:00   \n7                   Голубой            45         Да       Сова         7:00   \n8               Коричневый             70        Нет       Сова         0:00   \n9                   Зеленый           100        Нет       Сова         0:30   \n10                  Голубой            70         Да       Сова         9:30   \n11                    Карий            10         Да  Жаворонок         6:00   \n12                 Болотный            40         Да  Жаворонок        10:25   \n13             Серо-зеленый            70        Нет       Сова        10:00   \n14                    Карий            90         Да       Сова         7:30   \n15                  Голубой            66         Да       Сова        10:30   \n16                    Серый            99        Нет       Сова         6:00   \n17             Серо-зеленый            70        Нет       Сова         6:00   \n18                    Серый            10         Да       Сова        10:20   \n19                 Голубой             30        Нет  Жаворонок         9:00   \n20                    Синий            60         Да       Сова         8:43   \n21                    Карий            60        Нет  Жаворонок         8:00   \n22                    Карий           100        Нет       Сова         0:10   \n23                  Зелёный            65        Нет       Сова         6:00   \n24                    Карий            70        Нет  Жаворонок         7:00   \n25                  Зелёный            30         Да  Жаворонок         8:30   \n26                    Синий            40         Да  Жаворонок         7:00   \n27                    карий            90        Нет  Жаворонок         7:25   \n28                    Серый            40         Да  Жаворонок         8:00   \n29                  Зелёный            20         Да  Жаворонок         8:00   \n30                  Зелёный            30         Да  Жаворонок         8:00   \n31                    Серый            35         Да  Жаворонок         8:00   \n32             Серо-голубой           707         Да       Сова         7:00   \n33                    Карий            80        Нет       Сова         0:00   \n34                  Зелёный            50         Да  Жаворонок         8:00   \n35                 Зелёный             40        Нет       Сова         6:30   \n36      Зелёно-серо-голубой            75        Нет       Сова        10:15   \n37  Такой же, как и правого            70         Да       Сова        10:00   \n\n    average_sleep_time coffee_nearby gourmet office_worker homebody  \\\n0                  8.0            Да      Да            Да      Нет   \n1                  8.0            Да     Нет           Нет      Нет   \n2                  7.0            Да      Да           Нет       Да   \n3                  6.0            Да      Да           Нет      Нет   \n4                  6.0           Нет     Нет           Нет       Да   \n5                  8.0           Нет      Да           Нет      Нет   \n6                  6.0           Нет     Нет           Нет      Нет   \n7                  7.0            Да     Нет            Да      Нет   \n8                  8.0            Да      Да           Нет       Да   \n9                  6.0           Нет     Нет           Нет       Да   \n10                 8.0            Да      Да           Нет      Нет   \n11                 7.0            Да      Да           Нет      Нет   \n12                 9.0            Да     Нет           Нет      Нет   \n13                 7.0           Нет      Да           Нет       Да   \n14                 8.0           Нет     Нет            Да       Да   \n15                 7.0            Да     Нет           Нет       Да   \n16                 5.0           Нет      Да            Да      Нет   \n17                 7.0            Да     Нет            Да      Нет   \n18                 8.0           Нет     Нет           Нет       Да   \n19                 7.0            Да     Нет           Нет       Да   \n20                 8.0           Нет     Нет            Да      Нет   \n21                 8.0           Нет     Нет           Нет      Нет   \n22                 6.0           Нет     Нет           Нет      Нет   \n23                 7.0            Да      Да            Да       Да   \n24                 6.0            Да     Нет            Да      Нет   \n25                 7.0           Нет     Нет            Да       Да   \n26                 7.0           Нет     Нет           Нет      Нет   \n27                 6.0            Да     Нет            Да      Нет   \n28                 8.0           Нет      Да           Нет      Нет   \n29                 8.0            Да      Да            Да      Нет   \n30                 8.5            Да      Да           Нет      Нет   \n31                 8.0           Нет     Нет           Нет       Да   \n32                 6.0            Да     Нет           Нет      Нет   \n33                 6.0            Да     Нет           Нет       Да   \n34                 8.0            Да     Нет            Да       Да   \n35                 5.0            Да      Да            Да      Нет   \n36                 5.5           Нет      Да           Нет       Да   \n37                10.0           Нет      Да           Нет      Нет   \n\n   chronic_diseases? write_hand zodiac_sign  \n0                Нет     Правой     Козерог  \n1                Нет      Левой     Стрелец  \n2                Нет     Правой         Рак  \n3                 Да     Правой    Скорпион  \n4                 Да      Левой    Скорпион  \n5                Нет     Правой        Овен  \n6                Нет     Правой        Рыбы  \n7                 Да     Правой     Водолей  \n8                Нет      Левой        Дева  \n9                Нет     Правой     Водолей  \n10               Нет     Правой     Стрелец  \n11               Нет     Правой         Рак  \n12               Нет     Правой        Овен  \n13               Нет     Правой     Козерог  \n14                Да     Правой    Скорпион  \n15               Нет     Правой    Скорпион  \n16                Да     Правой        Овен  \n17               Нет     Правой     Стрелец  \n18               Нет      Левой        Весы  \n19               Нет     Правой         Лев  \n20                Да     Правой        Овен  \n21               Нет     Правой        Овен  \n22                Да     Правой         Рак  \n23               Нет     Правой        Весы  \n24               Нет     Правой         Рак  \n25               Нет     Правой        Весы  \n26               Нет     Правой     Козерог  \n27               Нет     Правой        Рыбы  \n28               Нет     Правой    Близнецы  \n29               Нет     Правой         Лев  \n30               Нет      Левой    Скорпион  \n31                Да     Правой        Рыбы  \n32               Нет     Правой     Козерог  \n33               Нет     Правой        рыбы  \n34               Нет     Правой        Овен  \n35               Нет     Правой    Близнецы  \n36               Нет     Правой     Водолей  \n37                Да     Правой    Скорпион  ",
      "text/html": "<div>\n<style scoped>\n    .dataframe tbody tr th:only-of-type {\n        vertical-align: middle;\n    }\n\n    .dataframe tbody tr th {\n        vertical-align: top;\n    }\n\n    .dataframe thead th {\n        text-align: right;\n    }\n</style>\n<table border=\"1\" class=\"dataframe\">\n  <thead>\n    <tr style=\"text-align: right;\">\n      <th></th>\n      <th>gender</th>\n      <th>morning_drink</th>\n      <th>age</th>\n      <th>healthy_life_style</th>\n      <th>smoking</th>\n      <th>left_eye_color</th>\n      <th>stress_level</th>\n      <th>sleep_well</th>\n      <th>chronotype</th>\n      <th>wake_up_time</th>\n      <th>average_sleep_time</th>\n      <th>coffee_nearby</th>\n      <th>gourmet</th>\n      <th>office_worker</th>\n      <th>homebody</th>\n      <th>chronic_diseases?</th>\n      <th>write_hand</th>\n      <th>zodiac_sign</th>\n    </tr>\n  </thead>\n  <tbody>\n    <tr>\n      <th>0</th>\n      <td>Женщина</td>\n      <td>Кофе</td>\n      <td>22</td>\n      <td>65</td>\n      <td>Да</td>\n      <td>Серо-зеленый</td>\n      <td>55</td>\n      <td>Да</td>\n      <td>Жаворонок</td>\n      <td>8:00</td>\n      <td>8.0</td>\n      <td>Да</td>\n      <td>Да</td>\n      <td>Да</td>\n      <td>Нет</td>\n      <td>Нет</td>\n      <td>Правой</td>\n      <td>Козерог</td>\n    </tr>\n    <tr>\n      <th>1</th>\n      <td>Мужчина</td>\n      <td>Чай</td>\n      <td>21</td>\n      <td>85</td>\n      <td>Нет</td>\n      <td>Зеленый</td>\n      <td>70</td>\n      <td>Да</td>\n      <td>Жаворонок</td>\n      <td>6:00</td>\n      <td>8.0</td>\n      <td>Да</td>\n      <td>Нет</td>\n      <td>Нет</td>\n      <td>Нет</td>\n      <td>Нет</td>\n      <td>Левой</td>\n      <td>Стрелец</td>\n    </tr>\n    <tr>\n      <th>2</th>\n      <td>Мужчина</td>\n      <td>Кофе</td>\n      <td>22</td>\n      <td>50</td>\n      <td>Да</td>\n      <td>Голубой</td>\n      <td>70</td>\n      <td>Да</td>\n      <td>Сова</td>\n      <td>9:00</td>\n      <td>7.0</td>\n      <td>Да</td>\n      <td>Да</td>\n      <td>Нет</td>\n      <td>Да</td>\n      <td>Нет</td>\n      <td>Правой</td>\n      <td>Рак</td>\n    </tr>\n    <tr>\n      <th>3</th>\n      <td>Мужчина</td>\n      <td>Кофе</td>\n      <td>22</td>\n      <td>80</td>\n      <td>Да</td>\n      <td>Карий</td>\n      <td>60</td>\n      <td>Да</td>\n      <td>Сова</td>\n      <td>9:00</td>\n      <td>6.0</td>\n      <td>Да</td>\n      <td>Да</td>\n      <td>Нет</td>\n      <td>Нет</td>\n      <td>Да</td>\n      <td>Правой</td>\n      <td>Скорпион</td>\n    </tr>\n    <tr>\n      <th>4</th>\n      <td>Женщина</td>\n      <td>Кофе</td>\n      <td>23</td>\n      <td>50</td>\n      <td>Нет</td>\n      <td>Голубой</td>\n      <td>90</td>\n      <td>Нет</td>\n      <td>Сова</td>\n      <td>14:00</td>\n      <td>6.0</td>\n      <td>Нет</td>\n      <td>Нет</td>\n      <td>Нет</td>\n      <td>Да</td>\n      <td>Да</td>\n      <td>Левой</td>\n      <td>Скорпион</td>\n    </tr>\n    <tr>\n      <th>5</th>\n      <td>Мужчина</td>\n      <td>Чай</td>\n      <td>21</td>\n      <td>99</td>\n      <td>Нет</td>\n      <td>Зелёный</td>\n      <td>1</td>\n      <td>Да</td>\n      <td>Жаворонок</td>\n      <td>6:30</td>\n      <td>8.0</td>\n      <td>Нет</td>\n      <td>Да</td>\n      <td>Нет</td>\n      <td>Нет</td>\n      <td>Нет</td>\n      <td>Правой</td>\n      <td>Овен</td>\n    </tr>\n    <tr>\n      <th>6</th>\n      <td>Мужчина</td>\n      <td>Чай</td>\n      <td>22</td>\n      <td>50</td>\n      <td>Нет</td>\n      <td>Голубой</td>\n      <td>70</td>\n      <td>Да</td>\n      <td>Сова</td>\n      <td>10:00</td>\n      <td>6.0</td>\n      <td>Нет</td>\n      <td>Нет</td>\n      <td>Нет</td>\n      <td>Нет</td>\n      <td>Нет</td>\n      <td>Правой</td>\n      <td>Рыбы</td>\n    </tr>\n    <tr>\n      <th>7</th>\n      <td>Мужчина</td>\n      <td>Чай</td>\n      <td>22</td>\n      <td>80</td>\n      <td>Нет</td>\n      <td>Голубой</td>\n      <td>45</td>\n      <td>Да</td>\n      <td>Сова</td>\n      <td>7:00</td>\n      <td>7.0</td>\n      <td>Да</td>\n      <td>Нет</td>\n      <td>Да</td>\n      <td>Нет</td>\n      <td>Да</td>\n      <td>Правой</td>\n      <td>Водолей</td>\n    </tr>\n    <tr>\n      <th>8</th>\n      <td>Мужчина</td>\n      <td>Кофе</td>\n      <td>22</td>\n      <td>50</td>\n      <td>Нет</td>\n      <td>Коричневый</td>\n      <td>70</td>\n      <td>Нет</td>\n      <td>Сова</td>\n      <td>0:00</td>\n      <td>8.0</td>\n      <td>Да</td>\n      <td>Да</td>\n      <td>Нет</td>\n      <td>Да</td>\n      <td>Нет</td>\n      <td>Левой</td>\n      <td>Дева</td>\n    </tr>\n    <tr>\n      <th>9</th>\n      <td>Мужчина</td>\n      <td>Чай</td>\n      <td>21</td>\n      <td>70</td>\n      <td>Да</td>\n      <td>Зеленый</td>\n      <td>100</td>\n      <td>Нет</td>\n      <td>Сова</td>\n      <td>0:30</td>\n      <td>6.0</td>\n      <td>Нет</td>\n      <td>Нет</td>\n      <td>Нет</td>\n      <td>Да</td>\n      <td>Нет</td>\n      <td>Правой</td>\n      <td>Водолей</td>\n    </tr>\n    <tr>\n      <th>10</th>\n      <td>Мужчина</td>\n      <td>Кофе</td>\n      <td>21</td>\n      <td>99</td>\n      <td>Нет</td>\n      <td>Голубой</td>\n      <td>70</td>\n      <td>Да</td>\n      <td>Сова</td>\n      <td>9:30</td>\n      <td>8.0</td>\n      <td>Да</td>\n      <td>Да</td>\n      <td>Нет</td>\n      <td>Нет</td>\n      <td>Нет</td>\n      <td>Правой</td>\n      <td>Стрелец</td>\n    </tr>\n    <tr>\n      <th>11</th>\n      <td>Мужчина</td>\n      <td>Чай</td>\n      <td>22</td>\n      <td>80</td>\n      <td>Да</td>\n      <td>Карий</td>\n      <td>10</td>\n      <td>Да</td>\n      <td>Жаворонок</td>\n      <td>6:00</td>\n      <td>7.0</td>\n      <td>Да</td>\n      <td>Да</td>\n      <td>Нет</td>\n      <td>Нет</td>\n      <td>Нет</td>\n      <td>Правой</td>\n      <td>Рак</td>\n    </tr>\n    <tr>\n      <th>12</th>\n      <td>Мужчина</td>\n      <td>Чай</td>\n      <td>22</td>\n      <td>65</td>\n      <td>Нет</td>\n      <td>Болотный</td>\n      <td>40</td>\n      <td>Да</td>\n      <td>Жаворонок</td>\n      <td>10:25</td>\n      <td>9.0</td>\n      <td>Да</td>\n      <td>Нет</td>\n      <td>Нет</td>\n      <td>Нет</td>\n      <td>Нет</td>\n      <td>Правой</td>\n      <td>Овен</td>\n    </tr>\n    <tr>\n      <th>13</th>\n      <td>Мужчина</td>\n      <td>Кофе</td>\n      <td>21</td>\n      <td>60</td>\n      <td>Да</td>\n      <td>Серо-зеленый</td>\n      <td>70</td>\n      <td>Нет</td>\n      <td>Сова</td>\n      <td>10:00</td>\n      <td>7.0</td>\n      <td>Нет</td>\n      <td>Да</td>\n      <td>Нет</td>\n      <td>Да</td>\n      <td>Нет</td>\n      <td>Правой</td>\n      <td>Козерог</td>\n    </tr>\n    <tr>\n      <th>14</th>\n      <td>Мужчина</td>\n      <td>Чай</td>\n      <td>21</td>\n      <td>10</td>\n      <td>Да</td>\n      <td>Карий</td>\n      <td>90</td>\n      <td>Да</td>\n      <td>Сова</td>\n      <td>7:30</td>\n      <td>8.0</td>\n      <td>Нет</td>\n      <td>Нет</td>\n      <td>Да</td>\n      <td>Да</td>\n      <td>Да</td>\n      <td>Правой</td>\n      <td>Скорпион</td>\n    </tr>\n    <tr>\n      <th>15</th>\n      <td>Женщина</td>\n      <td>Кофе</td>\n      <td>21</td>\n      <td>52</td>\n      <td>Нет</td>\n      <td>Голубой</td>\n      <td>66</td>\n      <td>Да</td>\n      <td>Сова</td>\n      <td>10:30</td>\n      <td>7.0</td>\n      <td>Да</td>\n      <td>Нет</td>\n      <td>Нет</td>\n      <td>Да</td>\n      <td>Нет</td>\n      <td>Правой</td>\n      <td>Скорпион</td>\n    </tr>\n    <tr>\n      <th>16</th>\n      <td>Женщина</td>\n      <td>Кофе</td>\n      <td>21</td>\n      <td>82</td>\n      <td>Да</td>\n      <td>Серый</td>\n      <td>99</td>\n      <td>Нет</td>\n      <td>Сова</td>\n      <td>6:00</td>\n      <td>5.0</td>\n      <td>Нет</td>\n      <td>Да</td>\n      <td>Да</td>\n      <td>Нет</td>\n      <td>Да</td>\n      <td>Правой</td>\n      <td>Овен</td>\n    </tr>\n    <tr>\n      <th>17</th>\n      <td>Женщина</td>\n      <td>Кофе</td>\n      <td>21</td>\n      <td>100</td>\n      <td>Нет</td>\n      <td>Серо-зеленый</td>\n      <td>70</td>\n      <td>Нет</td>\n      <td>Сова</td>\n      <td>6:00</td>\n      <td>7.0</td>\n      <td>Да</td>\n      <td>Нет</td>\n      <td>Да</td>\n      <td>Нет</td>\n      <td>Нет</td>\n      <td>Правой</td>\n      <td>Стрелец</td>\n    </tr>\n    <tr>\n      <th>18</th>\n      <td>Мужчина</td>\n      <td>Чай</td>\n      <td>21</td>\n      <td>50</td>\n      <td>Нет</td>\n      <td>Серый</td>\n      <td>10</td>\n      <td>Да</td>\n      <td>Сова</td>\n      <td>10:20</td>\n      <td>8.0</td>\n      <td>Нет</td>\n      <td>Нет</td>\n      <td>Нет</td>\n      <td>Да</td>\n      <td>Нет</td>\n      <td>Левой</td>\n      <td>Весы</td>\n    </tr>\n    <tr>\n      <th>19</th>\n      <td>Женщина</td>\n      <td>Чай</td>\n      <td>22</td>\n      <td>70</td>\n      <td>Нет</td>\n      <td>Голубой</td>\n      <td>30</td>\n      <td>Нет</td>\n      <td>Жаворонок</td>\n      <td>9:00</td>\n      <td>7.0</td>\n      <td>Да</td>\n      <td>Нет</td>\n      <td>Нет</td>\n      <td>Да</td>\n      <td>Нет</td>\n      <td>Правой</td>\n      <td>Лев</td>\n    </tr>\n    <tr>\n      <th>20</th>\n      <td>Мужчина</td>\n      <td>Чай</td>\n      <td>22</td>\n      <td>80</td>\n      <td>Нет</td>\n      <td>Синий</td>\n      <td>60</td>\n      <td>Да</td>\n      <td>Сова</td>\n      <td>8:43</td>\n      <td>8.0</td>\n      <td>Нет</td>\n      <td>Нет</td>\n      <td>Да</td>\n      <td>Нет</td>\n      <td>Да</td>\n      <td>Правой</td>\n      <td>Овен</td>\n    </tr>\n    <tr>\n      <th>21</th>\n      <td>Мужчина</td>\n      <td>Чай</td>\n      <td>22</td>\n      <td>80</td>\n      <td>Да</td>\n      <td>Карий</td>\n      <td>60</td>\n      <td>Нет</td>\n      <td>Жаворонок</td>\n      <td>8:00</td>\n      <td>8.0</td>\n      <td>Нет</td>\n      <td>Нет</td>\n      <td>Нет</td>\n      <td>Нет</td>\n      <td>Нет</td>\n      <td>Правой</td>\n      <td>Овен</td>\n    </tr>\n    <tr>\n      <th>22</th>\n      <td>Мужчина</td>\n      <td>Чай</td>\n      <td>22</td>\n      <td>81</td>\n      <td>Нет</td>\n      <td>Карий</td>\n      <td>100</td>\n      <td>Нет</td>\n      <td>Сова</td>\n      <td>0:10</td>\n      <td>6.0</td>\n      <td>Нет</td>\n      <td>Нет</td>\n      <td>Нет</td>\n      <td>Нет</td>\n      <td>Да</td>\n      <td>Правой</td>\n      <td>Рак</td>\n    </tr>\n    <tr>\n      <th>23</th>\n      <td>Мужчина</td>\n      <td>Чай</td>\n      <td>21</td>\n      <td>78</td>\n      <td>Нет</td>\n      <td>Зелёный</td>\n      <td>65</td>\n      <td>Нет</td>\n      <td>Сова</td>\n      <td>6:00</td>\n      <td>7.0</td>\n      <td>Да</td>\n      <td>Да</td>\n      <td>Да</td>\n      <td>Да</td>\n      <td>Нет</td>\n      <td>Правой</td>\n      <td>Весы</td>\n    </tr>\n    <tr>\n      <th>24</th>\n      <td>Мужчина</td>\n      <td>Кофе</td>\n      <td>22</td>\n      <td>70</td>\n      <td>Нет</td>\n      <td>Карий</td>\n      <td>70</td>\n      <td>Нет</td>\n      <td>Жаворонок</td>\n      <td>7:00</td>\n      <td>6.0</td>\n      <td>Да</td>\n      <td>Нет</td>\n      <td>Да</td>\n      <td>Нет</td>\n      <td>Нет</td>\n      <td>Правой</td>\n      <td>Рак</td>\n    </tr>\n    <tr>\n      <th>25</th>\n      <td>Женщина</td>\n      <td>Кофе</td>\n      <td>21</td>\n      <td>68</td>\n      <td>Нет</td>\n      <td>Зелёный</td>\n      <td>30</td>\n      <td>Да</td>\n      <td>Жаворонок</td>\n      <td>8:30</td>\n      <td>7.0</td>\n      <td>Нет</td>\n      <td>Нет</td>\n      <td>Да</td>\n      <td>Да</td>\n      <td>Нет</td>\n      <td>Правой</td>\n      <td>Весы</td>\n    </tr>\n    <tr>\n      <th>26</th>\n      <td>Мужчина</td>\n      <td>Чай</td>\n      <td>21</td>\n      <td>75</td>\n      <td>Нет</td>\n      <td>Синий</td>\n      <td>40</td>\n      <td>Да</td>\n      <td>Жаворонок</td>\n      <td>7:00</td>\n      <td>7.0</td>\n      <td>Нет</td>\n      <td>Нет</td>\n      <td>Нет</td>\n      <td>Нет</td>\n      <td>Нет</td>\n      <td>Правой</td>\n      <td>Козерог</td>\n    </tr>\n    <tr>\n      <th>27</th>\n      <td>Мужчина</td>\n      <td>Чай</td>\n      <td>23</td>\n      <td>25</td>\n      <td>Да</td>\n      <td>карий</td>\n      <td>90</td>\n      <td>Нет</td>\n      <td>Жаворонок</td>\n      <td>7:25</td>\n      <td>6.0</td>\n      <td>Да</td>\n      <td>Нет</td>\n      <td>Да</td>\n      <td>Нет</td>\n      <td>Нет</td>\n      <td>Правой</td>\n      <td>Рыбы</td>\n    </tr>\n    <tr>\n      <th>28</th>\n      <td>Мужчина</td>\n      <td>Чай</td>\n      <td>21</td>\n      <td>70</td>\n      <td>Нет</td>\n      <td>Серый</td>\n      <td>40</td>\n      <td>Да</td>\n      <td>Жаворонок</td>\n      <td>8:00</td>\n      <td>8.0</td>\n      <td>Нет</td>\n      <td>Да</td>\n      <td>Нет</td>\n      <td>Нет</td>\n      <td>Нет</td>\n      <td>Правой</td>\n      <td>Близнецы</td>\n    </tr>\n    <tr>\n      <th>29</th>\n      <td>Мужчина</td>\n      <td>Кофе</td>\n      <td>22</td>\n      <td>90</td>\n      <td>Нет</td>\n      <td>Зелёный</td>\n      <td>20</td>\n      <td>Да</td>\n      <td>Жаворонок</td>\n      <td>8:00</td>\n      <td>8.0</td>\n      <td>Да</td>\n      <td>Да</td>\n      <td>Да</td>\n      <td>Нет</td>\n      <td>Нет</td>\n      <td>Правой</td>\n      <td>Лев</td>\n    </tr>\n    <tr>\n      <th>30</th>\n      <td>Мужчина</td>\n      <td>Чай</td>\n      <td>21</td>\n      <td>80</td>\n      <td>Нет</td>\n      <td>Зелёный</td>\n      <td>30</td>\n      <td>Да</td>\n      <td>Жаворонок</td>\n      <td>8:00</td>\n      <td>8.5</td>\n      <td>Да</td>\n      <td>Да</td>\n      <td>Нет</td>\n      <td>Нет</td>\n      <td>Нет</td>\n      <td>Левой</td>\n      <td>Скорпион</td>\n    </tr>\n    <tr>\n      <th>31</th>\n      <td>Мужчина</td>\n      <td>Чай</td>\n      <td>22</td>\n      <td>70</td>\n      <td>Нет</td>\n      <td>Серый</td>\n      <td>35</td>\n      <td>Да</td>\n      <td>Жаворонок</td>\n      <td>8:00</td>\n      <td>8.0</td>\n      <td>Нет</td>\n      <td>Нет</td>\n      <td>Нет</td>\n      <td>Да</td>\n      <td>Да</td>\n      <td>Правой</td>\n      <td>Рыбы</td>\n    </tr>\n    <tr>\n      <th>32</th>\n      <td>Мужчина</td>\n      <td>Кофе</td>\n      <td>22</td>\n      <td>80</td>\n      <td>Да</td>\n      <td>Серо-голубой</td>\n      <td>707</td>\n      <td>Да</td>\n      <td>Сова</td>\n      <td>7:00</td>\n      <td>6.0</td>\n      <td>Да</td>\n      <td>Нет</td>\n      <td>Нет</td>\n      <td>Нет</td>\n      <td>Нет</td>\n      <td>Правой</td>\n      <td>Козерог</td>\n    </tr>\n    <tr>\n      <th>33</th>\n      <td>Мужчина</td>\n      <td>Чай</td>\n      <td>21</td>\n      <td>60</td>\n      <td>Да</td>\n      <td>Карий</td>\n      <td>80</td>\n      <td>Нет</td>\n      <td>Сова</td>\n      <td>0:00</td>\n      <td>6.0</td>\n      <td>Да</td>\n      <td>Нет</td>\n      <td>Нет</td>\n      <td>Да</td>\n      <td>Нет</td>\n      <td>Правой</td>\n      <td>рыбы</td>\n    </tr>\n    <tr>\n      <th>34</th>\n      <td>Мужчина</td>\n      <td>Чай</td>\n      <td>21</td>\n      <td>75</td>\n      <td>Нет</td>\n      <td>Зелёный</td>\n      <td>50</td>\n      <td>Да</td>\n      <td>Жаворонок</td>\n      <td>8:00</td>\n      <td>8.0</td>\n      <td>Да</td>\n      <td>Нет</td>\n      <td>Да</td>\n      <td>Да</td>\n      <td>Нет</td>\n      <td>Правой</td>\n      <td>Овен</td>\n    </tr>\n    <tr>\n      <th>35</th>\n      <td>Мужчина</td>\n      <td>Кофе</td>\n      <td>27</td>\n      <td>60</td>\n      <td>Да</td>\n      <td>Зелёный</td>\n      <td>40</td>\n      <td>Нет</td>\n      <td>Сова</td>\n      <td>6:30</td>\n      <td>5.0</td>\n      <td>Да</td>\n      <td>Да</td>\n      <td>Да</td>\n      <td>Нет</td>\n      <td>Нет</td>\n      <td>Правой</td>\n      <td>Близнецы</td>\n    </tr>\n    <tr>\n      <th>36</th>\n      <td>Мужчина</td>\n      <td>Чай</td>\n      <td>21</td>\n      <td>65</td>\n      <td>Да</td>\n      <td>Зелёно-серо-голубой</td>\n      <td>75</td>\n      <td>Нет</td>\n      <td>Сова</td>\n      <td>10:15</td>\n      <td>5.5</td>\n      <td>Нет</td>\n      <td>Да</td>\n      <td>Нет</td>\n      <td>Да</td>\n      <td>Нет</td>\n      <td>Правой</td>\n      <td>Водолей</td>\n    </tr>\n    <tr>\n      <th>37</th>\n      <td>Мужчина</td>\n      <td>Чай</td>\n      <td>21</td>\n      <td>80</td>\n      <td>Нет</td>\n      <td>Такой же, как и правого</td>\n      <td>70</td>\n      <td>Да</td>\n      <td>Сова</td>\n      <td>10:00</td>\n      <td>10.0</td>\n      <td>Нет</td>\n      <td>Да</td>\n      <td>Нет</td>\n      <td>Нет</td>\n      <td>Да</td>\n      <td>Правой</td>\n      <td>Скорпион</td>\n    </tr>\n  </tbody>\n</table>\n</div>"
     },
     "execution_count": 66,
     "metadata": {},
     "output_type": "execute_result"
    }
   ],
   "source": [
    "df"
   ],
   "metadata": {
    "collapsed": false,
    "ExecuteTime": {
     "end_time": "2024-09-28T09:46:02.182299Z",
     "start_time": "2024-09-28T09:46:02.171309Z"
    }
   }
  },
  {
   "cell_type": "code",
   "execution_count": 81,
   "outputs": [
    {
     "data": {
      "text/plain": "     gender morning_drink  age  healthy_life_style smoking  \\\n0   Женщина          Кофе   22                  65      Да   \n1   Мужчина           Чай   21                  85     Нет   \n2   Мужчина          Кофе   22                  50      Да   \n3   Мужчина          Кофе   22                  80      Да   \n4   Женщина          Кофе   23                  50     Нет   \n5   Мужчина           Чай   21                  99     Нет   \n6   Мужчина           Чай   22                  50     Нет   \n7   Мужчина           Чай   22                  80     Нет   \n8   Мужчина          Кофе   22                  50     Нет   \n9   Мужчина           Чай   21                  70      Да   \n10  Мужчина          Кофе   21                  99     Нет   \n11  Мужчина           Чай   22                  80      Да   \n12  Мужчина           Чай   22                  65     Нет   \n13  Мужчина          Кофе   21                  60      Да   \n14  Мужчина           Чай   21                  10      Да   \n15  Женщина          Кофе   21                  52     Нет   \n16  Женщина          Кофе   21                  82      Да   \n17  Женщина          Кофе   21                 100     Нет   \n18  Мужчина           Чай   21                  50     Нет   \n19  Женщина           Чай   22                  70     Нет   \n20  Мужчина           Чай   22                  80     Нет   \n21  Мужчина           Чай   22                  80      Да   \n22  Мужчина           Чай   22                  81     Нет   \n23  Мужчина           Чай   21                  78     Нет   \n24  Мужчина          Кофе   22                  70     Нет   \n25  Женщина          Кофе   21                  68     Нет   \n26  Мужчина           Чай   21                  75     Нет   \n27  Мужчина           Чай   23                  25      Да   \n28  Мужчина           Чай   21                  70     Нет   \n29  Мужчина          Кофе   22                  90     Нет   \n30  Мужчина           Чай   21                  80     Нет   \n31  Мужчина           Чай   22                  70     Нет   \n32  Мужчина          Кофе   22                  80      Да   \n33  Мужчина           Чай   21                  60      Да   \n34  Мужчина           Чай   21                  75     Нет   \n35  Мужчина          Кофе   27                  60      Да   \n36  Мужчина           Чай   21                  65      Да   \n37  Мужчина           Чай   21                  80     Нет   \n\n             left_eye_color  stress_level sleep_well chronotype wake_up_time  \\\n0              Серо-зеленый            55         Да  Жаворонок         8:00   \n1                   Зеленый            70         Да  Жаворонок         6:00   \n2                   Голубой            70         Да       Сова         9:00   \n3                     Карий            60         Да       Сова         9:00   \n4                   Голубой            90        Нет       Сова        14:00   \n5                   Зелёный             1         Да  Жаворонок         6:30   \n6                   Голубой            70         Да       Сова        10:00   \n7                   Голубой            45         Да       Сова         7:00   \n8               Коричневый             70        Нет       Сова         0:00   \n9                   Зеленый           100        Нет       Сова         0:30   \n10                  Голубой            70         Да       Сова         9:30   \n11                    Карий            10         Да  Жаворонок         6:00   \n12                 Болотный            40         Да  Жаворонок        10:25   \n13             Серо-зеленый            70        Нет       Сова        10:00   \n14                    Карий            90         Да       Сова         7:30   \n15                  Голубой            66         Да       Сова        10:30   \n16                    Серый            99        Нет       Сова         6:00   \n17             Серо-зеленый            70        Нет       Сова         6:00   \n18                    Серый            10         Да       Сова        10:20   \n19                 Голубой             30        Нет  Жаворонок         9:00   \n20                    Синий            60         Да       Сова         8:43   \n21                    Карий            60        Нет  Жаворонок         8:00   \n22                    Карий           100        Нет       Сова         0:10   \n23                  Зелёный            65        Нет       Сова         6:00   \n24                    Карий            70        Нет  Жаворонок         7:00   \n25                  Зелёный            30         Да  Жаворонок         8:30   \n26                    Синий            40         Да  Жаворонок         7:00   \n27                    карий            90        Нет  Жаворонок         7:25   \n28                    Серый            40         Да  Жаворонок         8:00   \n29                  Зелёный            20         Да  Жаворонок         8:00   \n30                  Зелёный            30         Да  Жаворонок         8:00   \n31                    Серый            35         Да  Жаворонок         8:00   \n32             Серо-голубой           707         Да       Сова         7:00   \n33                    Карий            80        Нет       Сова         0:00   \n34                  Зелёный            50         Да  Жаворонок         8:00   \n35                 Зелёный             40        Нет       Сова         6:30   \n36      Зелёно-серо-голубой            75        Нет       Сова        10:15   \n37  Такой же, как и правого            70         Да       Сова        10:00   \n\n    average_sleep_time coffee_nearby gourmet office_worker homebody  \\\n0                  8.0            Да      Да            Да      Нет   \n1                  8.0            Да     Нет           Нет      Нет   \n2                  7.0            Да      Да           Нет       Да   \n3                  6.0            Да      Да           Нет      Нет   \n4                  6.0           Нет     Нет           Нет       Да   \n5                  8.0           Нет      Да           Нет      Нет   \n6                  6.0           Нет     Нет           Нет      Нет   \n7                  7.0            Да     Нет            Да      Нет   \n8                  8.0            Да      Да           Нет       Да   \n9                  6.0           Нет     Нет           Нет       Да   \n10                 8.0            Да      Да           Нет      Нет   \n11                 7.0            Да      Да           Нет      Нет   \n12                 9.0            Да     Нет           Нет      Нет   \n13                 7.0           Нет      Да           Нет       Да   \n14                 8.0           Нет     Нет            Да       Да   \n15                 7.0            Да     Нет           Нет       Да   \n16                 5.0           Нет      Да            Да      Нет   \n17                 7.0            Да     Нет            Да      Нет   \n18                 8.0           Нет     Нет           Нет       Да   \n19                 7.0            Да     Нет           Нет       Да   \n20                 8.0           Нет     Нет            Да      Нет   \n21                 8.0           Нет     Нет           Нет      Нет   \n22                 6.0           Нет     Нет           Нет      Нет   \n23                 7.0            Да      Да            Да       Да   \n24                 6.0            Да     Нет            Да      Нет   \n25                 7.0           Нет     Нет            Да       Да   \n26                 7.0           Нет     Нет           Нет      Нет   \n27                 6.0            Да     Нет            Да      Нет   \n28                 8.0           Нет      Да           Нет      Нет   \n29                 8.0            Да      Да            Да      Нет   \n30                 8.5            Да      Да           Нет      Нет   \n31                 8.0           Нет     Нет           Нет       Да   \n32                 6.0            Да     Нет           Нет      Нет   \n33                 6.0            Да     Нет           Нет       Да   \n34                 8.0            Да     Нет            Да       Да   \n35                 5.0            Да      Да            Да      Нет   \n36                 5.5           Нет      Да           Нет       Да   \n37                10.0           Нет      Да           Нет      Нет   \n\n   chronic_diseases? write_hand zodiac_sign  \n0                Нет     Правой     Козерог  \n1                Нет      Левой     Стрелец  \n2                Нет     Правой         Рак  \n3                 Да     Правой    Скорпион  \n4                 Да      Левой    Скорпион  \n5                Нет     Правой        Овен  \n6                Нет     Правой        Рыбы  \n7                 Да     Правой     Водолей  \n8                Нет      Левой        Дева  \n9                Нет     Правой     Водолей  \n10               Нет     Правой     Стрелец  \n11               Нет     Правой         Рак  \n12               Нет     Правой        Овен  \n13               Нет     Правой     Козерог  \n14                Да     Правой    Скорпион  \n15               Нет     Правой    Скорпион  \n16                Да     Правой        Овен  \n17               Нет     Правой     Стрелец  \n18               Нет      Левой        Весы  \n19               Нет     Правой         Лев  \n20                Да     Правой        Овен  \n21               Нет     Правой        Овен  \n22                Да     Правой         Рак  \n23               Нет     Правой        Весы  \n24               Нет     Правой         Рак  \n25               Нет     Правой        Весы  \n26               Нет     Правой     Козерог  \n27               Нет     Правой        Рыбы  \n28               Нет     Правой    Близнецы  \n29               Нет     Правой         Лев  \n30               Нет      Левой    Скорпион  \n31                Да     Правой        Рыбы  \n32               Нет     Правой     Козерог  \n33               Нет     Правой        рыбы  \n34               Нет     Правой        Овен  \n35               Нет     Правой    Близнецы  \n36               Нет     Правой     Водолей  \n37                Да     Правой    Скорпион  ",
      "text/html": "<div>\n<style scoped>\n    .dataframe tbody tr th:only-of-type {\n        vertical-align: middle;\n    }\n\n    .dataframe tbody tr th {\n        vertical-align: top;\n    }\n\n    .dataframe thead th {\n        text-align: right;\n    }\n</style>\n<table border=\"1\" class=\"dataframe\">\n  <thead>\n    <tr style=\"text-align: right;\">\n      <th></th>\n      <th>gender</th>\n      <th>morning_drink</th>\n      <th>age</th>\n      <th>healthy_life_style</th>\n      <th>smoking</th>\n      <th>left_eye_color</th>\n      <th>stress_level</th>\n      <th>sleep_well</th>\n      <th>chronotype</th>\n      <th>wake_up_time</th>\n      <th>average_sleep_time</th>\n      <th>coffee_nearby</th>\n      <th>gourmet</th>\n      <th>office_worker</th>\n      <th>homebody</th>\n      <th>chronic_diseases?</th>\n      <th>write_hand</th>\n      <th>zodiac_sign</th>\n    </tr>\n  </thead>\n  <tbody>\n    <tr>\n      <th>0</th>\n      <td>Женщина</td>\n      <td>Кофе</td>\n      <td>22</td>\n      <td>65</td>\n      <td>Да</td>\n      <td>Серо-зеленый</td>\n      <td>55</td>\n      <td>Да</td>\n      <td>Жаворонок</td>\n      <td>8:00</td>\n      <td>8.0</td>\n      <td>Да</td>\n      <td>Да</td>\n      <td>Да</td>\n      <td>Нет</td>\n      <td>Нет</td>\n      <td>Правой</td>\n      <td>Козерог</td>\n    </tr>\n    <tr>\n      <th>1</th>\n      <td>Мужчина</td>\n      <td>Чай</td>\n      <td>21</td>\n      <td>85</td>\n      <td>Нет</td>\n      <td>Зеленый</td>\n      <td>70</td>\n      <td>Да</td>\n      <td>Жаворонок</td>\n      <td>6:00</td>\n      <td>8.0</td>\n      <td>Да</td>\n      <td>Нет</td>\n      <td>Нет</td>\n      <td>Нет</td>\n      <td>Нет</td>\n      <td>Левой</td>\n      <td>Стрелец</td>\n    </tr>\n    <tr>\n      <th>2</th>\n      <td>Мужчина</td>\n      <td>Кофе</td>\n      <td>22</td>\n      <td>50</td>\n      <td>Да</td>\n      <td>Голубой</td>\n      <td>70</td>\n      <td>Да</td>\n      <td>Сова</td>\n      <td>9:00</td>\n      <td>7.0</td>\n      <td>Да</td>\n      <td>Да</td>\n      <td>Нет</td>\n      <td>Да</td>\n      <td>Нет</td>\n      <td>Правой</td>\n      <td>Рак</td>\n    </tr>\n    <tr>\n      <th>3</th>\n      <td>Мужчина</td>\n      <td>Кофе</td>\n      <td>22</td>\n      <td>80</td>\n      <td>Да</td>\n      <td>Карий</td>\n      <td>60</td>\n      <td>Да</td>\n      <td>Сова</td>\n      <td>9:00</td>\n      <td>6.0</td>\n      <td>Да</td>\n      <td>Да</td>\n      <td>Нет</td>\n      <td>Нет</td>\n      <td>Да</td>\n      <td>Правой</td>\n      <td>Скорпион</td>\n    </tr>\n    <tr>\n      <th>4</th>\n      <td>Женщина</td>\n      <td>Кофе</td>\n      <td>23</td>\n      <td>50</td>\n      <td>Нет</td>\n      <td>Голубой</td>\n      <td>90</td>\n      <td>Нет</td>\n      <td>Сова</td>\n      <td>14:00</td>\n      <td>6.0</td>\n      <td>Нет</td>\n      <td>Нет</td>\n      <td>Нет</td>\n      <td>Да</td>\n      <td>Да</td>\n      <td>Левой</td>\n      <td>Скорпион</td>\n    </tr>\n    <tr>\n      <th>5</th>\n      <td>Мужчина</td>\n      <td>Чай</td>\n      <td>21</td>\n      <td>99</td>\n      <td>Нет</td>\n      <td>Зелёный</td>\n      <td>1</td>\n      <td>Да</td>\n      <td>Жаворонок</td>\n      <td>6:30</td>\n      <td>8.0</td>\n      <td>Нет</td>\n      <td>Да</td>\n      <td>Нет</td>\n      <td>Нет</td>\n      <td>Нет</td>\n      <td>Правой</td>\n      <td>Овен</td>\n    </tr>\n    <tr>\n      <th>6</th>\n      <td>Мужчина</td>\n      <td>Чай</td>\n      <td>22</td>\n      <td>50</td>\n      <td>Нет</td>\n      <td>Голубой</td>\n      <td>70</td>\n      <td>Да</td>\n      <td>Сова</td>\n      <td>10:00</td>\n      <td>6.0</td>\n      <td>Нет</td>\n      <td>Нет</td>\n      <td>Нет</td>\n      <td>Нет</td>\n      <td>Нет</td>\n      <td>Правой</td>\n      <td>Рыбы</td>\n    </tr>\n    <tr>\n      <th>7</th>\n      <td>Мужчина</td>\n      <td>Чай</td>\n      <td>22</td>\n      <td>80</td>\n      <td>Нет</td>\n      <td>Голубой</td>\n      <td>45</td>\n      <td>Да</td>\n      <td>Сова</td>\n      <td>7:00</td>\n      <td>7.0</td>\n      <td>Да</td>\n      <td>Нет</td>\n      <td>Да</td>\n      <td>Нет</td>\n      <td>Да</td>\n      <td>Правой</td>\n      <td>Водолей</td>\n    </tr>\n    <tr>\n      <th>8</th>\n      <td>Мужчина</td>\n      <td>Кофе</td>\n      <td>22</td>\n      <td>50</td>\n      <td>Нет</td>\n      <td>Коричневый</td>\n      <td>70</td>\n      <td>Нет</td>\n      <td>Сова</td>\n      <td>0:00</td>\n      <td>8.0</td>\n      <td>Да</td>\n      <td>Да</td>\n      <td>Нет</td>\n      <td>Да</td>\n      <td>Нет</td>\n      <td>Левой</td>\n      <td>Дева</td>\n    </tr>\n    <tr>\n      <th>9</th>\n      <td>Мужчина</td>\n      <td>Чай</td>\n      <td>21</td>\n      <td>70</td>\n      <td>Да</td>\n      <td>Зеленый</td>\n      <td>100</td>\n      <td>Нет</td>\n      <td>Сова</td>\n      <td>0:30</td>\n      <td>6.0</td>\n      <td>Нет</td>\n      <td>Нет</td>\n      <td>Нет</td>\n      <td>Да</td>\n      <td>Нет</td>\n      <td>Правой</td>\n      <td>Водолей</td>\n    </tr>\n    <tr>\n      <th>10</th>\n      <td>Мужчина</td>\n      <td>Кофе</td>\n      <td>21</td>\n      <td>99</td>\n      <td>Нет</td>\n      <td>Голубой</td>\n      <td>70</td>\n      <td>Да</td>\n      <td>Сова</td>\n      <td>9:30</td>\n      <td>8.0</td>\n      <td>Да</td>\n      <td>Да</td>\n      <td>Нет</td>\n      <td>Нет</td>\n      <td>Нет</td>\n      <td>Правой</td>\n      <td>Стрелец</td>\n    </tr>\n    <tr>\n      <th>11</th>\n      <td>Мужчина</td>\n      <td>Чай</td>\n      <td>22</td>\n      <td>80</td>\n      <td>Да</td>\n      <td>Карий</td>\n      <td>10</td>\n      <td>Да</td>\n      <td>Жаворонок</td>\n      <td>6:00</td>\n      <td>7.0</td>\n      <td>Да</td>\n      <td>Да</td>\n      <td>Нет</td>\n      <td>Нет</td>\n      <td>Нет</td>\n      <td>Правой</td>\n      <td>Рак</td>\n    </tr>\n    <tr>\n      <th>12</th>\n      <td>Мужчина</td>\n      <td>Чай</td>\n      <td>22</td>\n      <td>65</td>\n      <td>Нет</td>\n      <td>Болотный</td>\n      <td>40</td>\n      <td>Да</td>\n      <td>Жаворонок</td>\n      <td>10:25</td>\n      <td>9.0</td>\n      <td>Да</td>\n      <td>Нет</td>\n      <td>Нет</td>\n      <td>Нет</td>\n      <td>Нет</td>\n      <td>Правой</td>\n      <td>Овен</td>\n    </tr>\n    <tr>\n      <th>13</th>\n      <td>Мужчина</td>\n      <td>Кофе</td>\n      <td>21</td>\n      <td>60</td>\n      <td>Да</td>\n      <td>Серо-зеленый</td>\n      <td>70</td>\n      <td>Нет</td>\n      <td>Сова</td>\n      <td>10:00</td>\n      <td>7.0</td>\n      <td>Нет</td>\n      <td>Да</td>\n      <td>Нет</td>\n      <td>Да</td>\n      <td>Нет</td>\n      <td>Правой</td>\n      <td>Козерог</td>\n    </tr>\n    <tr>\n      <th>14</th>\n      <td>Мужчина</td>\n      <td>Чай</td>\n      <td>21</td>\n      <td>10</td>\n      <td>Да</td>\n      <td>Карий</td>\n      <td>90</td>\n      <td>Да</td>\n      <td>Сова</td>\n      <td>7:30</td>\n      <td>8.0</td>\n      <td>Нет</td>\n      <td>Нет</td>\n      <td>Да</td>\n      <td>Да</td>\n      <td>Да</td>\n      <td>Правой</td>\n      <td>Скорпион</td>\n    </tr>\n    <tr>\n      <th>15</th>\n      <td>Женщина</td>\n      <td>Кофе</td>\n      <td>21</td>\n      <td>52</td>\n      <td>Нет</td>\n      <td>Голубой</td>\n      <td>66</td>\n      <td>Да</td>\n      <td>Сова</td>\n      <td>10:30</td>\n      <td>7.0</td>\n      <td>Да</td>\n      <td>Нет</td>\n      <td>Нет</td>\n      <td>Да</td>\n      <td>Нет</td>\n      <td>Правой</td>\n      <td>Скорпион</td>\n    </tr>\n    <tr>\n      <th>16</th>\n      <td>Женщина</td>\n      <td>Кофе</td>\n      <td>21</td>\n      <td>82</td>\n      <td>Да</td>\n      <td>Серый</td>\n      <td>99</td>\n      <td>Нет</td>\n      <td>Сова</td>\n      <td>6:00</td>\n      <td>5.0</td>\n      <td>Нет</td>\n      <td>Да</td>\n      <td>Да</td>\n      <td>Нет</td>\n      <td>Да</td>\n      <td>Правой</td>\n      <td>Овен</td>\n    </tr>\n    <tr>\n      <th>17</th>\n      <td>Женщина</td>\n      <td>Кофе</td>\n      <td>21</td>\n      <td>100</td>\n      <td>Нет</td>\n      <td>Серо-зеленый</td>\n      <td>70</td>\n      <td>Нет</td>\n      <td>Сова</td>\n      <td>6:00</td>\n      <td>7.0</td>\n      <td>Да</td>\n      <td>Нет</td>\n      <td>Да</td>\n      <td>Нет</td>\n      <td>Нет</td>\n      <td>Правой</td>\n      <td>Стрелец</td>\n    </tr>\n    <tr>\n      <th>18</th>\n      <td>Мужчина</td>\n      <td>Чай</td>\n      <td>21</td>\n      <td>50</td>\n      <td>Нет</td>\n      <td>Серый</td>\n      <td>10</td>\n      <td>Да</td>\n      <td>Сова</td>\n      <td>10:20</td>\n      <td>8.0</td>\n      <td>Нет</td>\n      <td>Нет</td>\n      <td>Нет</td>\n      <td>Да</td>\n      <td>Нет</td>\n      <td>Левой</td>\n      <td>Весы</td>\n    </tr>\n    <tr>\n      <th>19</th>\n      <td>Женщина</td>\n      <td>Чай</td>\n      <td>22</td>\n      <td>70</td>\n      <td>Нет</td>\n      <td>Голубой</td>\n      <td>30</td>\n      <td>Нет</td>\n      <td>Жаворонок</td>\n      <td>9:00</td>\n      <td>7.0</td>\n      <td>Да</td>\n      <td>Нет</td>\n      <td>Нет</td>\n      <td>Да</td>\n      <td>Нет</td>\n      <td>Правой</td>\n      <td>Лев</td>\n    </tr>\n    <tr>\n      <th>20</th>\n      <td>Мужчина</td>\n      <td>Чай</td>\n      <td>22</td>\n      <td>80</td>\n      <td>Нет</td>\n      <td>Синий</td>\n      <td>60</td>\n      <td>Да</td>\n      <td>Сова</td>\n      <td>8:43</td>\n      <td>8.0</td>\n      <td>Нет</td>\n      <td>Нет</td>\n      <td>Да</td>\n      <td>Нет</td>\n      <td>Да</td>\n      <td>Правой</td>\n      <td>Овен</td>\n    </tr>\n    <tr>\n      <th>21</th>\n      <td>Мужчина</td>\n      <td>Чай</td>\n      <td>22</td>\n      <td>80</td>\n      <td>Да</td>\n      <td>Карий</td>\n      <td>60</td>\n      <td>Нет</td>\n      <td>Жаворонок</td>\n      <td>8:00</td>\n      <td>8.0</td>\n      <td>Нет</td>\n      <td>Нет</td>\n      <td>Нет</td>\n      <td>Нет</td>\n      <td>Нет</td>\n      <td>Правой</td>\n      <td>Овен</td>\n    </tr>\n    <tr>\n      <th>22</th>\n      <td>Мужчина</td>\n      <td>Чай</td>\n      <td>22</td>\n      <td>81</td>\n      <td>Нет</td>\n      <td>Карий</td>\n      <td>100</td>\n      <td>Нет</td>\n      <td>Сова</td>\n      <td>0:10</td>\n      <td>6.0</td>\n      <td>Нет</td>\n      <td>Нет</td>\n      <td>Нет</td>\n      <td>Нет</td>\n      <td>Да</td>\n      <td>Правой</td>\n      <td>Рак</td>\n    </tr>\n    <tr>\n      <th>23</th>\n      <td>Мужчина</td>\n      <td>Чай</td>\n      <td>21</td>\n      <td>78</td>\n      <td>Нет</td>\n      <td>Зелёный</td>\n      <td>65</td>\n      <td>Нет</td>\n      <td>Сова</td>\n      <td>6:00</td>\n      <td>7.0</td>\n      <td>Да</td>\n      <td>Да</td>\n      <td>Да</td>\n      <td>Да</td>\n      <td>Нет</td>\n      <td>Правой</td>\n      <td>Весы</td>\n    </tr>\n    <tr>\n      <th>24</th>\n      <td>Мужчина</td>\n      <td>Кофе</td>\n      <td>22</td>\n      <td>70</td>\n      <td>Нет</td>\n      <td>Карий</td>\n      <td>70</td>\n      <td>Нет</td>\n      <td>Жаворонок</td>\n      <td>7:00</td>\n      <td>6.0</td>\n      <td>Да</td>\n      <td>Нет</td>\n      <td>Да</td>\n      <td>Нет</td>\n      <td>Нет</td>\n      <td>Правой</td>\n      <td>Рак</td>\n    </tr>\n    <tr>\n      <th>25</th>\n      <td>Женщина</td>\n      <td>Кофе</td>\n      <td>21</td>\n      <td>68</td>\n      <td>Нет</td>\n      <td>Зелёный</td>\n      <td>30</td>\n      <td>Да</td>\n      <td>Жаворонок</td>\n      <td>8:30</td>\n      <td>7.0</td>\n      <td>Нет</td>\n      <td>Нет</td>\n      <td>Да</td>\n      <td>Да</td>\n      <td>Нет</td>\n      <td>Правой</td>\n      <td>Весы</td>\n    </tr>\n    <tr>\n      <th>26</th>\n      <td>Мужчина</td>\n      <td>Чай</td>\n      <td>21</td>\n      <td>75</td>\n      <td>Нет</td>\n      <td>Синий</td>\n      <td>40</td>\n      <td>Да</td>\n      <td>Жаворонок</td>\n      <td>7:00</td>\n      <td>7.0</td>\n      <td>Нет</td>\n      <td>Нет</td>\n      <td>Нет</td>\n      <td>Нет</td>\n      <td>Нет</td>\n      <td>Правой</td>\n      <td>Козерог</td>\n    </tr>\n    <tr>\n      <th>27</th>\n      <td>Мужчина</td>\n      <td>Чай</td>\n      <td>23</td>\n      <td>25</td>\n      <td>Да</td>\n      <td>карий</td>\n      <td>90</td>\n      <td>Нет</td>\n      <td>Жаворонок</td>\n      <td>7:25</td>\n      <td>6.0</td>\n      <td>Да</td>\n      <td>Нет</td>\n      <td>Да</td>\n      <td>Нет</td>\n      <td>Нет</td>\n      <td>Правой</td>\n      <td>Рыбы</td>\n    </tr>\n    <tr>\n      <th>28</th>\n      <td>Мужчина</td>\n      <td>Чай</td>\n      <td>21</td>\n      <td>70</td>\n      <td>Нет</td>\n      <td>Серый</td>\n      <td>40</td>\n      <td>Да</td>\n      <td>Жаворонок</td>\n      <td>8:00</td>\n      <td>8.0</td>\n      <td>Нет</td>\n      <td>Да</td>\n      <td>Нет</td>\n      <td>Нет</td>\n      <td>Нет</td>\n      <td>Правой</td>\n      <td>Близнецы</td>\n    </tr>\n    <tr>\n      <th>29</th>\n      <td>Мужчина</td>\n      <td>Кофе</td>\n      <td>22</td>\n      <td>90</td>\n      <td>Нет</td>\n      <td>Зелёный</td>\n      <td>20</td>\n      <td>Да</td>\n      <td>Жаворонок</td>\n      <td>8:00</td>\n      <td>8.0</td>\n      <td>Да</td>\n      <td>Да</td>\n      <td>Да</td>\n      <td>Нет</td>\n      <td>Нет</td>\n      <td>Правой</td>\n      <td>Лев</td>\n    </tr>\n    <tr>\n      <th>30</th>\n      <td>Мужчина</td>\n      <td>Чай</td>\n      <td>21</td>\n      <td>80</td>\n      <td>Нет</td>\n      <td>Зелёный</td>\n      <td>30</td>\n      <td>Да</td>\n      <td>Жаворонок</td>\n      <td>8:00</td>\n      <td>8.5</td>\n      <td>Да</td>\n      <td>Да</td>\n      <td>Нет</td>\n      <td>Нет</td>\n      <td>Нет</td>\n      <td>Левой</td>\n      <td>Скорпион</td>\n    </tr>\n    <tr>\n      <th>31</th>\n      <td>Мужчина</td>\n      <td>Чай</td>\n      <td>22</td>\n      <td>70</td>\n      <td>Нет</td>\n      <td>Серый</td>\n      <td>35</td>\n      <td>Да</td>\n      <td>Жаворонок</td>\n      <td>8:00</td>\n      <td>8.0</td>\n      <td>Нет</td>\n      <td>Нет</td>\n      <td>Нет</td>\n      <td>Да</td>\n      <td>Да</td>\n      <td>Правой</td>\n      <td>Рыбы</td>\n    </tr>\n    <tr>\n      <th>32</th>\n      <td>Мужчина</td>\n      <td>Кофе</td>\n      <td>22</td>\n      <td>80</td>\n      <td>Да</td>\n      <td>Серо-голубой</td>\n      <td>707</td>\n      <td>Да</td>\n      <td>Сова</td>\n      <td>7:00</td>\n      <td>6.0</td>\n      <td>Да</td>\n      <td>Нет</td>\n      <td>Нет</td>\n      <td>Нет</td>\n      <td>Нет</td>\n      <td>Правой</td>\n      <td>Козерог</td>\n    </tr>\n    <tr>\n      <th>33</th>\n      <td>Мужчина</td>\n      <td>Чай</td>\n      <td>21</td>\n      <td>60</td>\n      <td>Да</td>\n      <td>Карий</td>\n      <td>80</td>\n      <td>Нет</td>\n      <td>Сова</td>\n      <td>0:00</td>\n      <td>6.0</td>\n      <td>Да</td>\n      <td>Нет</td>\n      <td>Нет</td>\n      <td>Да</td>\n      <td>Нет</td>\n      <td>Правой</td>\n      <td>рыбы</td>\n    </tr>\n    <tr>\n      <th>34</th>\n      <td>Мужчина</td>\n      <td>Чай</td>\n      <td>21</td>\n      <td>75</td>\n      <td>Нет</td>\n      <td>Зелёный</td>\n      <td>50</td>\n      <td>Да</td>\n      <td>Жаворонок</td>\n      <td>8:00</td>\n      <td>8.0</td>\n      <td>Да</td>\n      <td>Нет</td>\n      <td>Да</td>\n      <td>Да</td>\n      <td>Нет</td>\n      <td>Правой</td>\n      <td>Овен</td>\n    </tr>\n    <tr>\n      <th>35</th>\n      <td>Мужчина</td>\n      <td>Кофе</td>\n      <td>27</td>\n      <td>60</td>\n      <td>Да</td>\n      <td>Зелёный</td>\n      <td>40</td>\n      <td>Нет</td>\n      <td>Сова</td>\n      <td>6:30</td>\n      <td>5.0</td>\n      <td>Да</td>\n      <td>Да</td>\n      <td>Да</td>\n      <td>Нет</td>\n      <td>Нет</td>\n      <td>Правой</td>\n      <td>Близнецы</td>\n    </tr>\n    <tr>\n      <th>36</th>\n      <td>Мужчина</td>\n      <td>Чай</td>\n      <td>21</td>\n      <td>65</td>\n      <td>Да</td>\n      <td>Зелёно-серо-голубой</td>\n      <td>75</td>\n      <td>Нет</td>\n      <td>Сова</td>\n      <td>10:15</td>\n      <td>5.5</td>\n      <td>Нет</td>\n      <td>Да</td>\n      <td>Нет</td>\n      <td>Да</td>\n      <td>Нет</td>\n      <td>Правой</td>\n      <td>Водолей</td>\n    </tr>\n    <tr>\n      <th>37</th>\n      <td>Мужчина</td>\n      <td>Чай</td>\n      <td>21</td>\n      <td>80</td>\n      <td>Нет</td>\n      <td>Такой же, как и правого</td>\n      <td>70</td>\n      <td>Да</td>\n      <td>Сова</td>\n      <td>10:00</td>\n      <td>10.0</td>\n      <td>Нет</td>\n      <td>Да</td>\n      <td>Нет</td>\n      <td>Нет</td>\n      <td>Да</td>\n      <td>Правой</td>\n      <td>Скорпион</td>\n    </tr>\n  </tbody>\n</table>\n</div>"
     },
     "execution_count": 81,
     "metadata": {},
     "output_type": "execute_result"
    }
   ],
   "source": [
    "tf = copy.copy(df)\n",
    "tf"
   ],
   "metadata": {
    "collapsed": false,
    "ExecuteTime": {
     "end_time": "2024-09-28T09:49:19.541909Z",
     "start_time": "2024-09-28T09:49:19.531830Z"
    }
   }
  },
  {
   "cell_type": "code",
   "execution_count": 143,
   "outputs": [
    {
     "data": {
      "text/plain": "   morning_drink       similarity_rate\n0           Кофе  [0.6020617142550093]\n1            Чай  [0.5774741236888619]\n2           Кофе  [0.5663707925810778]\n3           Кофе  [0.5669204773766123]\n4           Кофе  [0.5365325044978276]\n5            Чай  [0.9187453972470666]\n6            Чай  [0.5551225906151427]\n7            Чай  [0.6104897603660412]\n8           Кофе  [0.5741149361583625]\n9            Чай  [0.5311502590907982]\n10          Кофе  [0.5774741236888619]\n11           Чай  [0.8944812006730425]\n12           Чай  [0.6604576531748912]\n13          Кофе  [0.5630054846788328]\n14           Чай  [0.5568954144543573]\n15          Кофе  [0.5712993921928705]\n16          Кофе  [0.5234369116406015]\n17          Кофе  [0.5630054846788328]\n18           Чай  [0.9184585432887044]\n19           Чай  [0.6604334370672837]\n20           Чай  [0.5925905604840453]\n21           Чай  [0.5886937610354025]\n22           Чай  [0.5311502590907982]\n23           Чай  [0.5690057762415675]\n24          Кофе   [0.551751790044578]\n25          Кофе  [0.6678974146691535]\n26           Чай  [0.6253396090939711]\n27           Чай  [0.5365325044978276]\n28           Чай  [0.6431685935684331]\n29          Кофе  [0.7704209155369384]\n30           Чай  [0.7003899050194471]\n31           Чай  [0.6636602246874177]\n32          Кофе  [0.4890175024411016]\n33           Чай  [0.5432203205190163]\n34           Чай  [0.6132696547714668]\n35          Кофе  [0.5823490660957643]\n36           Чай  [0.5418863650705844]\n37           Чай  [0.5992246781821646]",
      "text/html": "<div>\n<style scoped>\n    .dataframe tbody tr th:only-of-type {\n        vertical-align: middle;\n    }\n\n    .dataframe tbody tr th {\n        vertical-align: top;\n    }\n\n    .dataframe thead th {\n        text-align: right;\n    }\n</style>\n<table border=\"1\" class=\"dataframe\">\n  <thead>\n    <tr style=\"text-align: right;\">\n      <th></th>\n      <th>morning_drink</th>\n      <th>similarity_rate</th>\n    </tr>\n  </thead>\n  <tbody>\n    <tr>\n      <th>0</th>\n      <td>Кофе</td>\n      <td>[0.6020617142550093]</td>\n    </tr>\n    <tr>\n      <th>1</th>\n      <td>Чай</td>\n      <td>[0.5774741236888619]</td>\n    </tr>\n    <tr>\n      <th>2</th>\n      <td>Кофе</td>\n      <td>[0.5663707925810778]</td>\n    </tr>\n    <tr>\n      <th>3</th>\n      <td>Кофе</td>\n      <td>[0.5669204773766123]</td>\n    </tr>\n    <tr>\n      <th>4</th>\n      <td>Кофе</td>\n      <td>[0.5365325044978276]</td>\n    </tr>\n    <tr>\n      <th>5</th>\n      <td>Чай</td>\n      <td>[0.9187453972470666]</td>\n    </tr>\n    <tr>\n      <th>6</th>\n      <td>Чай</td>\n      <td>[0.5551225906151427]</td>\n    </tr>\n    <tr>\n      <th>7</th>\n      <td>Чай</td>\n      <td>[0.6104897603660412]</td>\n    </tr>\n    <tr>\n      <th>8</th>\n      <td>Кофе</td>\n      <td>[0.5741149361583625]</td>\n    </tr>\n    <tr>\n      <th>9</th>\n      <td>Чай</td>\n      <td>[0.5311502590907982]</td>\n    </tr>\n    <tr>\n      <th>10</th>\n      <td>Кофе</td>\n      <td>[0.5774741236888619]</td>\n    </tr>\n    <tr>\n      <th>11</th>\n      <td>Чай</td>\n      <td>[0.8944812006730425]</td>\n    </tr>\n    <tr>\n      <th>12</th>\n      <td>Чай</td>\n      <td>[0.6604576531748912]</td>\n    </tr>\n    <tr>\n      <th>13</th>\n      <td>Кофе</td>\n      <td>[0.5630054846788328]</td>\n    </tr>\n    <tr>\n      <th>14</th>\n      <td>Чай</td>\n      <td>[0.5568954144543573]</td>\n    </tr>\n    <tr>\n      <th>15</th>\n      <td>Кофе</td>\n      <td>[0.5712993921928705]</td>\n    </tr>\n    <tr>\n      <th>16</th>\n      <td>Кофе</td>\n      <td>[0.5234369116406015]</td>\n    </tr>\n    <tr>\n      <th>17</th>\n      <td>Кофе</td>\n      <td>[0.5630054846788328]</td>\n    </tr>\n    <tr>\n      <th>18</th>\n      <td>Чай</td>\n      <td>[0.9184585432887044]</td>\n    </tr>\n    <tr>\n      <th>19</th>\n      <td>Чай</td>\n      <td>[0.6604334370672837]</td>\n    </tr>\n    <tr>\n      <th>20</th>\n      <td>Чай</td>\n      <td>[0.5925905604840453]</td>\n    </tr>\n    <tr>\n      <th>21</th>\n      <td>Чай</td>\n      <td>[0.5886937610354025]</td>\n    </tr>\n    <tr>\n      <th>22</th>\n      <td>Чай</td>\n      <td>[0.5311502590907982]</td>\n    </tr>\n    <tr>\n      <th>23</th>\n      <td>Чай</td>\n      <td>[0.5690057762415675]</td>\n    </tr>\n    <tr>\n      <th>24</th>\n      <td>Кофе</td>\n      <td>[0.551751790044578]</td>\n    </tr>\n    <tr>\n      <th>25</th>\n      <td>Кофе</td>\n      <td>[0.6678974146691535]</td>\n    </tr>\n    <tr>\n      <th>26</th>\n      <td>Чай</td>\n      <td>[0.6253396090939711]</td>\n    </tr>\n    <tr>\n      <th>27</th>\n      <td>Чай</td>\n      <td>[0.5365325044978276]</td>\n    </tr>\n    <tr>\n      <th>28</th>\n      <td>Чай</td>\n      <td>[0.6431685935684331]</td>\n    </tr>\n    <tr>\n      <th>29</th>\n      <td>Кофе</td>\n      <td>[0.7704209155369384]</td>\n    </tr>\n    <tr>\n      <th>30</th>\n      <td>Чай</td>\n      <td>[0.7003899050194471]</td>\n    </tr>\n    <tr>\n      <th>31</th>\n      <td>Чай</td>\n      <td>[0.6636602246874177]</td>\n    </tr>\n    <tr>\n      <th>32</th>\n      <td>Кофе</td>\n      <td>[0.4890175024411016]</td>\n    </tr>\n    <tr>\n      <th>33</th>\n      <td>Чай</td>\n      <td>[0.5432203205190163]</td>\n    </tr>\n    <tr>\n      <th>34</th>\n      <td>Чай</td>\n      <td>[0.6132696547714668]</td>\n    </tr>\n    <tr>\n      <th>35</th>\n      <td>Кофе</td>\n      <td>[0.5823490660957643]</td>\n    </tr>\n    <tr>\n      <th>36</th>\n      <td>Чай</td>\n      <td>[0.5418863650705844]</td>\n    </tr>\n    <tr>\n      <th>37</th>\n      <td>Чай</td>\n      <td>[0.5992246781821646]</td>\n    </tr>\n  </tbody>\n</table>\n</div>"
     },
     "execution_count": 143,
     "metadata": {},
     "output_type": "execute_result"
    }
   ],
   "source": [
    "joined_result_df = pandas.DataFrame(\n",
    "    {\n",
    "        \"morning_drink\": df[\"morning_drink\"].values.tolist(),\n",
    "        \"similarity_rate\": diffs.tolist()\n",
    "    }\n",
    ")\n",
    "joined_result_df"
   ],
   "metadata": {
    "collapsed": false,
    "ExecuteTime": {
     "end_time": "2024-09-28T10:09:14.735838Z",
     "start_time": "2024-09-28T10:09:14.706843Z"
    }
   }
  },
  {
   "cell_type": "code",
   "execution_count": 171,
   "outputs": [
    {
     "data": {
      "text/plain": "morning_drink  similarity_rate\nКофе           0.770421           1\nЧай            0.700390           1\n               0.894481           1\n               0.918459           1\n               0.918745           1\nName: count, dtype: int64"
     },
     "execution_count": 171,
     "metadata": {},
     "output_type": "execute_result"
    }
   ],
   "source": [
    "head_neighbours.value_counts()"
   ],
   "metadata": {
    "collapsed": false,
    "ExecuteTime": {
     "end_time": "2024-09-28T10:47:43.275992Z",
     "start_time": "2024-09-28T10:47:43.216944Z"
    }
   }
  },
  {
   "cell_type": "code",
   "execution_count": 168,
   "outputs": [
    {
     "data": {
      "text/plain": "   morning_drink  similarity_rate\n5            Чай         0.918745\n18           Чай         0.918459\n11           Чай         0.894481\n29          Кофе         0.770421\n30           Чай         0.700390",
      "text/html": "<div>\n<style scoped>\n    .dataframe tbody tr th:only-of-type {\n        vertical-align: middle;\n    }\n\n    .dataframe tbody tr th {\n        vertical-align: top;\n    }\n\n    .dataframe thead th {\n        text-align: right;\n    }\n</style>\n<table border=\"1\" class=\"dataframe\">\n  <thead>\n    <tr style=\"text-align: right;\">\n      <th></th>\n      <th>morning_drink</th>\n      <th>similarity_rate</th>\n    </tr>\n  </thead>\n  <tbody>\n    <tr>\n      <th>5</th>\n      <td>Чай</td>\n      <td>0.918745</td>\n    </tr>\n    <tr>\n      <th>18</th>\n      <td>Чай</td>\n      <td>0.918459</td>\n    </tr>\n    <tr>\n      <th>11</th>\n      <td>Чай</td>\n      <td>0.894481</td>\n    </tr>\n    <tr>\n      <th>29</th>\n      <td>Кофе</td>\n      <td>0.770421</td>\n    </tr>\n    <tr>\n      <th>30</th>\n      <td>Чай</td>\n      <td>0.700390</td>\n    </tr>\n  </tbody>\n</table>\n</div>"
     },
     "execution_count": 168,
     "metadata": {},
     "output_type": "execute_result"
    }
   ],
   "source": [
    "head_neighbours"
   ],
   "metadata": {
    "collapsed": false,
    "ExecuteTime": {
     "end_time": "2024-09-28T10:47:11.800694Z",
     "start_time": "2024-09-28T10:47:11.793605Z"
    }
   }
  },
  {
   "cell_type": "code",
   "execution_count": 177,
   "outputs": [],
   "source": [
    "from collections import Counter"
   ],
   "metadata": {
    "collapsed": false,
    "ExecuteTime": {
     "end_time": "2024-09-28T11:01:40.549434Z",
     "start_time": "2024-09-28T11:01:40.408963Z"
    }
   }
  },
  {
   "cell_type": "code",
   "execution_count": 180,
   "outputs": [
    {
     "data": {
      "text/plain": "Counter({'Чай': 4, 'Кофе': 1})"
     },
     "execution_count": 180,
     "metadata": {},
     "output_type": "execute_result"
    }
   ],
   "source": [
    "c = Counter(target_values)\n"
   ],
   "metadata": {
    "collapsed": false,
    "ExecuteTime": {
     "end_time": "2024-09-28T11:02:17.056014Z",
     "start_time": "2024-09-28T11:02:16.985570Z"
    }
   }
  },
  {
   "cell_type": "code",
   "execution_count": 191,
   "outputs": [
    {
     "data": {
      "text/plain": "{'Чай': 4, 'Кофе': 1}"
     },
     "execution_count": 191,
     "metadata": {},
     "output_type": "execute_result"
    }
   ],
   "source": [
    "dict(c)"
   ],
   "metadata": {
    "collapsed": false,
    "ExecuteTime": {
     "end_time": "2024-09-28T11:05:23.766944Z",
     "start_time": "2024-09-28T11:05:23.645426Z"
    }
   }
  }
 ],
 "metadata": {
  "kernelspec": {
   "display_name": "Python 3",
   "language": "python",
   "name": "python3"
  },
  "language_info": {
   "codemirror_mode": {
    "name": "ipython",
    "version": 2
   },
   "file_extension": ".py",
   "mimetype": "text/x-python",
   "name": "python",
   "nbconvert_exporter": "python",
   "pygments_lexer": "ipython2",
   "version": "2.7.6"
  }
 },
 "nbformat": 4,
 "nbformat_minor": 0
}
